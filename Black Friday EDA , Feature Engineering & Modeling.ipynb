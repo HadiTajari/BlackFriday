{
 "cells": [
  {
   "cell_type": "markdown",
   "id": "fc02cec0",
   "metadata": {},
   "source": [
    "# BlackFraiday Dataset EDA, Feature Engineering & Modeling"
   ]
  },
  {
   "cell_type": "markdown",
   "id": "e37cf00a",
   "metadata": {
    "direction": "rtl"
   },
   "source": [
    "# تحلیل اکتشافی،مهندسی ویژگی و مدل سازی دیتاست جمعه سیاه"
   ]
  },
  {
   "cell_type": "markdown",
   "id": "cf41c140",
   "metadata": {
    "direction": "rtl"
   },
   "source": [
    "#  بیان مسئله\n",
    "#### یک شرکت خرده‌فروشی  می‌خواهد رفتار خرید مشتریان (به ویژه، مقدار خرید) را در برابر محصولات مختلف از دسته‌های مختلف درک کند.\n",
    "#### آنها خلاصه خرید مشتریان مختلف را برای محصولات منتخب با حجم بالا از ماه گذشته را به اشتراک گذاشته اند."
   ]
  },
  {
   "cell_type": "markdown",
   "id": "731d2320",
   "metadata": {
    "direction": "rtl"
   },
   "source": [
    "\n",
    "#### _حالا آنها می خواهند مدلی برای پیش بینی میزان خرید مشتری در برابر محصولات مختلف بسازند که به آنها کمک می کند تا پیشنهاد شخصی برای مشتریان در برابر محصولات مختلف ایجاد کنند._"
   ]
  },
  {
   "cell_type": "markdown",
   "id": "d7533a0f",
   "metadata": {
    "direction": "rtl"
   },
   "source": [
    "**در ابتدا  کتابخانه های مورد نیاز را وارد میکنیم:** "
   ]
  },
  {
   "cell_type": "code",
   "execution_count": 1,
   "id": "de9e8e83",
   "metadata": {},
   "outputs": [],
   "source": [
    "import pandas as pd\n",
    "import numpy as np\n",
    "import matplotlib.pyplot as plt\n",
    "import seaborn as sns\n",
    "import lazypredict\n",
    "%matplotlib inline\n"
   ]
  },
  {
   "cell_type": "markdown",
   "id": "0906c311",
   "metadata": {
    "direction": "rtl"
   },
   "source": [
    "### دیتاست را از لینک زیر دانلود کرده و وارد میکنیم"
   ]
  },
  {
   "cell_type": "markdown",
   "id": "ab8913d3",
   "metadata": {},
   "source": [
    "## dataset link: https://www.kaggle.com/sdolezel/black-friday?select=train.csv"
   ]
  },
  {
   "cell_type": "markdown",
   "id": "3c8ed8a4",
   "metadata": {
    "direction": "rtl"
   },
   "source": [
    "#### مجموعه داده‌ها   شامل اطلاعات به شرح زیر می باشد:\n",
    "1. شناسه مشتری ..........................................int64....................User_ID\n",
    "2. شناسه محصول.......................................object...................Product_ID \n",
    "3. جنسیت ................................................object...................Gender \n",
    "4. سن .....................................................object...................Age \n",
    "5. شغل ............................................ int64....................Occupation \n",
    "6. نوع شهر .......................................object...................City_Category \n",
    "7. تعداد سال اقامت در شهر جاری............object....................Stay_In_Current_City_Years \n",
    "8. وضعیت تاهل....................................int64 ....................Marital_Status\n",
    "9. محصولات دسته 1...... ......................float64...................Product_Category_1\n",
    "10. محصولات دسته 2...... .....................float64...................Product_Category_2\n",
    "11. محصولات دسته 3...... .....................float64...................Product_Category_3\n",
    "12. خرید ( متغیر هدف ما) .................................float64...................Purchase  "
   ]
  },
  {
   "cell_type": "markdown",
   "id": "faecbfed",
   "metadata": {
    "direction": "rtl"
   },
   "source": [
    "##### داده های آموزشی و تست را  فراخوانی می کنیم"
   ]
  },
  {
   "cell_type": "code",
   "execution_count": 2,
   "id": "790059f7",
   "metadata": {},
   "outputs": [],
   "source": [
    "df_train = pd.read_csv(\"train.csv\")\n",
    "df_test= pd.read_csv(\"test.csv\")"
   ]
  },
  {
   "cell_type": "code",
   "execution_count": 3,
   "id": "1553cca0",
   "metadata": {},
   "outputs": [
    {
     "data": {
      "text/html": [
       "<div>\n",
       "<style scoped>\n",
       "    .dataframe tbody tr th:only-of-type {\n",
       "        vertical-align: middle;\n",
       "    }\n",
       "\n",
       "    .dataframe tbody tr th {\n",
       "        vertical-align: top;\n",
       "    }\n",
       "\n",
       "    .dataframe thead th {\n",
       "        text-align: right;\n",
       "    }\n",
       "</style>\n",
       "<table border=\"1\" class=\"dataframe\">\n",
       "  <thead>\n",
       "    <tr style=\"text-align: right;\">\n",
       "      <th></th>\n",
       "      <th>User_ID</th>\n",
       "      <th>Product_ID</th>\n",
       "      <th>Gender</th>\n",
       "      <th>Age</th>\n",
       "      <th>Occupation</th>\n",
       "      <th>City_Category</th>\n",
       "      <th>Stay_In_Current_City_Years</th>\n",
       "      <th>Marital_Status</th>\n",
       "      <th>Product_Category_1</th>\n",
       "      <th>Product_Category_2</th>\n",
       "      <th>Product_Category_3</th>\n",
       "      <th>Purchase</th>\n",
       "    </tr>\n",
       "  </thead>\n",
       "  <tbody>\n",
       "    <tr>\n",
       "      <th>0</th>\n",
       "      <td>1000001</td>\n",
       "      <td>P00069042</td>\n",
       "      <td>F</td>\n",
       "      <td>0-17</td>\n",
       "      <td>10</td>\n",
       "      <td>A</td>\n",
       "      <td>2</td>\n",
       "      <td>0</td>\n",
       "      <td>3</td>\n",
       "      <td>NaN</td>\n",
       "      <td>NaN</td>\n",
       "      <td>8370</td>\n",
       "    </tr>\n",
       "    <tr>\n",
       "      <th>1</th>\n",
       "      <td>1000001</td>\n",
       "      <td>P00248942</td>\n",
       "      <td>F</td>\n",
       "      <td>0-17</td>\n",
       "      <td>10</td>\n",
       "      <td>A</td>\n",
       "      <td>2</td>\n",
       "      <td>0</td>\n",
       "      <td>1</td>\n",
       "      <td>6.0</td>\n",
       "      <td>14.0</td>\n",
       "      <td>15200</td>\n",
       "    </tr>\n",
       "  </tbody>\n",
       "</table>\n",
       "</div>"
      ],
      "text/plain": [
       "   User_ID Product_ID Gender   Age  Occupation City_Category  \\\n",
       "0  1000001  P00069042      F  0-17          10             A   \n",
       "1  1000001  P00248942      F  0-17          10             A   \n",
       "\n",
       "  Stay_In_Current_City_Years  Marital_Status  Product_Category_1  \\\n",
       "0                          2               0                   3   \n",
       "1                          2               0                   1   \n",
       "\n",
       "   Product_Category_2  Product_Category_3  Purchase  \n",
       "0                 NaN                 NaN      8370  \n",
       "1                 6.0                14.0     15200  "
      ]
     },
     "execution_count": 3,
     "metadata": {},
     "output_type": "execute_result"
    }
   ],
   "source": [
    "df_train.head(2)"
   ]
  },
  {
   "cell_type": "code",
   "execution_count": 4,
   "id": "fb817e97",
   "metadata": {},
   "outputs": [
    {
     "data": {
      "text/html": [
       "<div>\n",
       "<style scoped>\n",
       "    .dataframe tbody tr th:only-of-type {\n",
       "        vertical-align: middle;\n",
       "    }\n",
       "\n",
       "    .dataframe tbody tr th {\n",
       "        vertical-align: top;\n",
       "    }\n",
       "\n",
       "    .dataframe thead th {\n",
       "        text-align: right;\n",
       "    }\n",
       "</style>\n",
       "<table border=\"1\" class=\"dataframe\">\n",
       "  <thead>\n",
       "    <tr style=\"text-align: right;\">\n",
       "      <th></th>\n",
       "      <th>User_ID</th>\n",
       "      <th>Product_ID</th>\n",
       "      <th>Gender</th>\n",
       "      <th>Age</th>\n",
       "      <th>Occupation</th>\n",
       "      <th>City_Category</th>\n",
       "      <th>Stay_In_Current_City_Years</th>\n",
       "      <th>Marital_Status</th>\n",
       "      <th>Product_Category_1</th>\n",
       "      <th>Product_Category_2</th>\n",
       "      <th>Product_Category_3</th>\n",
       "    </tr>\n",
       "  </thead>\n",
       "  <tbody>\n",
       "    <tr>\n",
       "      <th>0</th>\n",
       "      <td>1000004</td>\n",
       "      <td>P00128942</td>\n",
       "      <td>M</td>\n",
       "      <td>46-50</td>\n",
       "      <td>7</td>\n",
       "      <td>B</td>\n",
       "      <td>2</td>\n",
       "      <td>1</td>\n",
       "      <td>1</td>\n",
       "      <td>11.0</td>\n",
       "      <td>NaN</td>\n",
       "    </tr>\n",
       "    <tr>\n",
       "      <th>1</th>\n",
       "      <td>1000009</td>\n",
       "      <td>P00113442</td>\n",
       "      <td>M</td>\n",
       "      <td>26-35</td>\n",
       "      <td>17</td>\n",
       "      <td>C</td>\n",
       "      <td>0</td>\n",
       "      <td>0</td>\n",
       "      <td>3</td>\n",
       "      <td>5.0</td>\n",
       "      <td>NaN</td>\n",
       "    </tr>\n",
       "  </tbody>\n",
       "</table>\n",
       "</div>"
      ],
      "text/plain": [
       "   User_ID Product_ID Gender    Age  Occupation City_Category  \\\n",
       "0  1000004  P00128942      M  46-50           7             B   \n",
       "1  1000009  P00113442      M  26-35          17             C   \n",
       "\n",
       "  Stay_In_Current_City_Years  Marital_Status  Product_Category_1  \\\n",
       "0                          2               1                   1   \n",
       "1                          0               0                   3   \n",
       "\n",
       "   Product_Category_2  Product_Category_3  \n",
       "0                11.0                 NaN  \n",
       "1                 5.0                 NaN  "
      ]
     },
     "execution_count": 4,
     "metadata": {},
     "output_type": "execute_result"
    }
   ],
   "source": [
    "df_test.head(2)"
   ]
  },
  {
   "cell_type": "code",
   "execution_count": 5,
   "id": "f252af6a",
   "metadata": {},
   "outputs": [
    {
     "data": {
      "text/plain": [
       "((550068, 12), (233599, 11))"
      ]
     },
     "execution_count": 5,
     "metadata": {},
     "output_type": "execute_result"
    }
   ],
   "source": [
    "df_train.shape  ,df_test.shape"
   ]
  },
  {
   "cell_type": "markdown",
   "id": "fa5e7033",
   "metadata": {
    "direction": "rtl"
   },
   "source": [
    "##### داده های آموزشی و تست را با هم ادغام می کنیم"
   ]
  },
  {
   "cell_type": "markdown",
   "id": "c5ae08dc",
   "metadata": {
    "direction": "rtl"
   },
   "source": [
    "\n",
    "اگه از مرج استفاده کنیم نمیشه، مرج برای ادغام ستونی هستنش \n",
    "ما میخاهیم ادغام سطری انجام بدیم، یعنی دیتاست تست بیاد زیر دیتاست آموزشی\n"
   ]
  },
  {
   "cell_type": "code",
   "execution_count": 6,
   "id": "c0e24206",
   "metadata": {},
   "outputs": [],
   "source": [
    "# pd.merge(df_train[:-2] , df_test)"
   ]
  },
  {
   "cell_type": "markdown",
   "id": "99f8a84d",
   "metadata": {
    "direction": "rtl"
   },
   "source": [
    "از append هم میشه استفاده کرد، ولی چون دیگه دستور appendتوسط خود پانداس توصیه نمیشه از concat استفاده میکنیم"
   ]
  },
  {
   "cell_type": "markdown",
   "id": "e4b250ea",
   "metadata": {
    "direction": "rtl"
   },
   "source": [
    "پس از کد زیر استفاده میکنیم"
   ]
  },
  {
   "cell_type": "code",
   "execution_count": 7,
   "id": "0fad62db",
   "metadata": {},
   "outputs": [],
   "source": [
    "df = pd.concat([df_train,df_test])"
   ]
  },
  {
   "cell_type": "code",
   "execution_count": 8,
   "id": "63a48046",
   "metadata": {},
   "outputs": [
    {
     "data": {
      "text/html": [
       "<div>\n",
       "<style scoped>\n",
       "    .dataframe tbody tr th:only-of-type {\n",
       "        vertical-align: middle;\n",
       "    }\n",
       "\n",
       "    .dataframe tbody tr th {\n",
       "        vertical-align: top;\n",
       "    }\n",
       "\n",
       "    .dataframe thead th {\n",
       "        text-align: right;\n",
       "    }\n",
       "</style>\n",
       "<table border=\"1\" class=\"dataframe\">\n",
       "  <thead>\n",
       "    <tr style=\"text-align: right;\">\n",
       "      <th></th>\n",
       "      <th>User_ID</th>\n",
       "      <th>Product_ID</th>\n",
       "      <th>Gender</th>\n",
       "      <th>Age</th>\n",
       "      <th>Occupation</th>\n",
       "      <th>City_Category</th>\n",
       "      <th>Stay_In_Current_City_Years</th>\n",
       "      <th>Marital_Status</th>\n",
       "      <th>Product_Category_1</th>\n",
       "      <th>Product_Category_2</th>\n",
       "      <th>Product_Category_3</th>\n",
       "      <th>Purchase</th>\n",
       "    </tr>\n",
       "  </thead>\n",
       "  <tbody>\n",
       "    <tr>\n",
       "      <th>0</th>\n",
       "      <td>1000001</td>\n",
       "      <td>P00069042</td>\n",
       "      <td>F</td>\n",
       "      <td>0-17</td>\n",
       "      <td>10</td>\n",
       "      <td>A</td>\n",
       "      <td>2</td>\n",
       "      <td>0</td>\n",
       "      <td>3</td>\n",
       "      <td>NaN</td>\n",
       "      <td>NaN</td>\n",
       "      <td>8370.0</td>\n",
       "    </tr>\n",
       "    <tr>\n",
       "      <th>1</th>\n",
       "      <td>1000001</td>\n",
       "      <td>P00248942</td>\n",
       "      <td>F</td>\n",
       "      <td>0-17</td>\n",
       "      <td>10</td>\n",
       "      <td>A</td>\n",
       "      <td>2</td>\n",
       "      <td>0</td>\n",
       "      <td>1</td>\n",
       "      <td>6.0</td>\n",
       "      <td>14.0</td>\n",
       "      <td>15200.0</td>\n",
       "    </tr>\n",
       "    <tr>\n",
       "      <th>2</th>\n",
       "      <td>1000001</td>\n",
       "      <td>P00087842</td>\n",
       "      <td>F</td>\n",
       "      <td>0-17</td>\n",
       "      <td>10</td>\n",
       "      <td>A</td>\n",
       "      <td>2</td>\n",
       "      <td>0</td>\n",
       "      <td>12</td>\n",
       "      <td>NaN</td>\n",
       "      <td>NaN</td>\n",
       "      <td>1422.0</td>\n",
       "    </tr>\n",
       "    <tr>\n",
       "      <th>3</th>\n",
       "      <td>1000001</td>\n",
       "      <td>P00085442</td>\n",
       "      <td>F</td>\n",
       "      <td>0-17</td>\n",
       "      <td>10</td>\n",
       "      <td>A</td>\n",
       "      <td>2</td>\n",
       "      <td>0</td>\n",
       "      <td>12</td>\n",
       "      <td>14.0</td>\n",
       "      <td>NaN</td>\n",
       "      <td>1057.0</td>\n",
       "    </tr>\n",
       "    <tr>\n",
       "      <th>4</th>\n",
       "      <td>1000002</td>\n",
       "      <td>P00285442</td>\n",
       "      <td>M</td>\n",
       "      <td>55+</td>\n",
       "      <td>16</td>\n",
       "      <td>C</td>\n",
       "      <td>4+</td>\n",
       "      <td>0</td>\n",
       "      <td>8</td>\n",
       "      <td>NaN</td>\n",
       "      <td>NaN</td>\n",
       "      <td>7969.0</td>\n",
       "    </tr>\n",
       "  </tbody>\n",
       "</table>\n",
       "</div>"
      ],
      "text/plain": [
       "   User_ID Product_ID Gender   Age  Occupation City_Category  \\\n",
       "0  1000001  P00069042      F  0-17          10             A   \n",
       "1  1000001  P00248942      F  0-17          10             A   \n",
       "2  1000001  P00087842      F  0-17          10             A   \n",
       "3  1000001  P00085442      F  0-17          10             A   \n",
       "4  1000002  P00285442      M   55+          16             C   \n",
       "\n",
       "  Stay_In_Current_City_Years  Marital_Status  Product_Category_1  \\\n",
       "0                          2               0                   3   \n",
       "1                          2               0                   1   \n",
       "2                          2               0                  12   \n",
       "3                          2               0                  12   \n",
       "4                         4+               0                   8   \n",
       "\n",
       "   Product_Category_2  Product_Category_3  Purchase  \n",
       "0                 NaN                 NaN    8370.0  \n",
       "1                 6.0                14.0   15200.0  \n",
       "2                 NaN                 NaN    1422.0  \n",
       "3                14.0                 NaN    1057.0  \n",
       "4                 NaN                 NaN    7969.0  "
      ]
     },
     "execution_count": 8,
     "metadata": {},
     "output_type": "execute_result"
    }
   ],
   "source": [
    "df.head()"
   ]
  },
  {
   "cell_type": "code",
   "execution_count": 9,
   "id": "9036b77e",
   "metadata": {},
   "outputs": [
    {
     "name": "stdout",
     "output_type": "stream",
     "text": [
      "<class 'pandas.core.frame.DataFrame'>\n",
      "Int64Index: 783667 entries, 0 to 233598\n",
      "Data columns (total 12 columns):\n",
      " #   Column                      Non-Null Count   Dtype  \n",
      "---  ------                      --------------   -----  \n",
      " 0   User_ID                     783667 non-null  int64  \n",
      " 1   Product_ID                  783667 non-null  object \n",
      " 2   Gender                      783667 non-null  object \n",
      " 3   Age                         783667 non-null  object \n",
      " 4   Occupation                  783667 non-null  int64  \n",
      " 5   City_Category               783667 non-null  object \n",
      " 6   Stay_In_Current_City_Years  783667 non-null  object \n",
      " 7   Marital_Status              783667 non-null  int64  \n",
      " 8   Product_Category_1          783667 non-null  int64  \n",
      " 9   Product_Category_2          537685 non-null  float64\n",
      " 10  Product_Category_3          237858 non-null  float64\n",
      " 11  Purchase                    550068 non-null  float64\n",
      "dtypes: float64(3), int64(4), object(5)\n",
      "memory usage: 77.7+ MB\n"
     ]
    }
   ],
   "source": [
    "df.info()"
   ]
  },
  {
   "cell_type": "code",
   "execution_count": 10,
   "id": "3a182a65",
   "metadata": {},
   "outputs": [
    {
     "data": {
      "text/html": [
       "<div>\n",
       "<style scoped>\n",
       "    .dataframe tbody tr th:only-of-type {\n",
       "        vertical-align: middle;\n",
       "    }\n",
       "\n",
       "    .dataframe tbody tr th {\n",
       "        vertical-align: top;\n",
       "    }\n",
       "\n",
       "    .dataframe thead th {\n",
       "        text-align: right;\n",
       "    }\n",
       "</style>\n",
       "<table border=\"1\" class=\"dataframe\">\n",
       "  <thead>\n",
       "    <tr style=\"text-align: right;\">\n",
       "      <th></th>\n",
       "      <th>User_ID</th>\n",
       "      <th>Occupation</th>\n",
       "      <th>Marital_Status</th>\n",
       "      <th>Product_Category_1</th>\n",
       "      <th>Product_Category_2</th>\n",
       "      <th>Product_Category_3</th>\n",
       "      <th>Purchase</th>\n",
       "    </tr>\n",
       "  </thead>\n",
       "  <tbody>\n",
       "    <tr>\n",
       "      <th>count</th>\n",
       "      <td>7.836670e+05</td>\n",
       "      <td>783667.000000</td>\n",
       "      <td>783667.000000</td>\n",
       "      <td>783667.000000</td>\n",
       "      <td>537685.000000</td>\n",
       "      <td>237858.000000</td>\n",
       "      <td>550068.000000</td>\n",
       "    </tr>\n",
       "    <tr>\n",
       "      <th>mean</th>\n",
       "      <td>1.003029e+06</td>\n",
       "      <td>8.079300</td>\n",
       "      <td>0.409777</td>\n",
       "      <td>5.366196</td>\n",
       "      <td>9.844506</td>\n",
       "      <td>12.668605</td>\n",
       "      <td>9263.968713</td>\n",
       "    </tr>\n",
       "    <tr>\n",
       "      <th>std</th>\n",
       "      <td>1.727267e+03</td>\n",
       "      <td>6.522206</td>\n",
       "      <td>0.491793</td>\n",
       "      <td>3.878160</td>\n",
       "      <td>5.089093</td>\n",
       "      <td>4.125510</td>\n",
       "      <td>5023.065394</td>\n",
       "    </tr>\n",
       "    <tr>\n",
       "      <th>min</th>\n",
       "      <td>1.000001e+06</td>\n",
       "      <td>0.000000</td>\n",
       "      <td>0.000000</td>\n",
       "      <td>1.000000</td>\n",
       "      <td>2.000000</td>\n",
       "      <td>3.000000</td>\n",
       "      <td>12.000000</td>\n",
       "    </tr>\n",
       "    <tr>\n",
       "      <th>25%</th>\n",
       "      <td>1.001519e+06</td>\n",
       "      <td>2.000000</td>\n",
       "      <td>0.000000</td>\n",
       "      <td>1.000000</td>\n",
       "      <td>5.000000</td>\n",
       "      <td>9.000000</td>\n",
       "      <td>5823.000000</td>\n",
       "    </tr>\n",
       "    <tr>\n",
       "      <th>50%</th>\n",
       "      <td>1.003075e+06</td>\n",
       "      <td>7.000000</td>\n",
       "      <td>0.000000</td>\n",
       "      <td>5.000000</td>\n",
       "      <td>9.000000</td>\n",
       "      <td>14.000000</td>\n",
       "      <td>8047.000000</td>\n",
       "    </tr>\n",
       "    <tr>\n",
       "      <th>75%</th>\n",
       "      <td>1.004478e+06</td>\n",
       "      <td>14.000000</td>\n",
       "      <td>1.000000</td>\n",
       "      <td>8.000000</td>\n",
       "      <td>15.000000</td>\n",
       "      <td>16.000000</td>\n",
       "      <td>12054.000000</td>\n",
       "    </tr>\n",
       "    <tr>\n",
       "      <th>max</th>\n",
       "      <td>1.006040e+06</td>\n",
       "      <td>20.000000</td>\n",
       "      <td>1.000000</td>\n",
       "      <td>20.000000</td>\n",
       "      <td>18.000000</td>\n",
       "      <td>18.000000</td>\n",
       "      <td>23961.000000</td>\n",
       "    </tr>\n",
       "  </tbody>\n",
       "</table>\n",
       "</div>"
      ],
      "text/plain": [
       "            User_ID     Occupation  Marital_Status  Product_Category_1  \\\n",
       "count  7.836670e+05  783667.000000   783667.000000       783667.000000   \n",
       "mean   1.003029e+06       8.079300        0.409777            5.366196   \n",
       "std    1.727267e+03       6.522206        0.491793            3.878160   \n",
       "min    1.000001e+06       0.000000        0.000000            1.000000   \n",
       "25%    1.001519e+06       2.000000        0.000000            1.000000   \n",
       "50%    1.003075e+06       7.000000        0.000000            5.000000   \n",
       "75%    1.004478e+06      14.000000        1.000000            8.000000   \n",
       "max    1.006040e+06      20.000000        1.000000           20.000000   \n",
       "\n",
       "       Product_Category_2  Product_Category_3       Purchase  \n",
       "count       537685.000000       237858.000000  550068.000000  \n",
       "mean             9.844506           12.668605    9263.968713  \n",
       "std              5.089093            4.125510    5023.065394  \n",
       "min              2.000000            3.000000      12.000000  \n",
       "25%              5.000000            9.000000    5823.000000  \n",
       "50%              9.000000           14.000000    8047.000000  \n",
       "75%             15.000000           16.000000   12054.000000  \n",
       "max             18.000000           18.000000   23961.000000  "
      ]
     },
     "execution_count": 10,
     "metadata": {},
     "output_type": "execute_result"
    }
   ],
   "source": [
    "df.describe()"
   ]
  },
  {
   "cell_type": "markdown",
   "id": "d16d6965",
   "metadata": {
    "direction": "rtl"
   },
   "source": [
    "#### ببینیم به کدوم ستون یا ستونها  نیازی نداریم و می تونیم حذفش کنیم\n",
    "#### با نگاه کردن به دیتافریم میفهمیم به ستون User_ID نیازی نداریم و میشه حذفش کرد"
   ]
  },
  {
   "cell_type": "code",
   "execution_count": 11,
   "id": "1811e767",
   "metadata": {},
   "outputs": [
    {
     "data": {
      "text/html": [
       "<div>\n",
       "<style scoped>\n",
       "    .dataframe tbody tr th:only-of-type {\n",
       "        vertical-align: middle;\n",
       "    }\n",
       "\n",
       "    .dataframe tbody tr th {\n",
       "        vertical-align: top;\n",
       "    }\n",
       "\n",
       "    .dataframe thead th {\n",
       "        text-align: right;\n",
       "    }\n",
       "</style>\n",
       "<table border=\"1\" class=\"dataframe\">\n",
       "  <thead>\n",
       "    <tr style=\"text-align: right;\">\n",
       "      <th></th>\n",
       "      <th>Product_ID</th>\n",
       "      <th>Gender</th>\n",
       "      <th>Age</th>\n",
       "      <th>Occupation</th>\n",
       "      <th>City_Category</th>\n",
       "      <th>Stay_In_Current_City_Years</th>\n",
       "      <th>Marital_Status</th>\n",
       "      <th>Product_Category_1</th>\n",
       "      <th>Product_Category_2</th>\n",
       "      <th>Product_Category_3</th>\n",
       "      <th>Purchase</th>\n",
       "    </tr>\n",
       "  </thead>\n",
       "  <tbody>\n",
       "    <tr>\n",
       "      <th>0</th>\n",
       "      <td>P00069042</td>\n",
       "      <td>F</td>\n",
       "      <td>0-17</td>\n",
       "      <td>10</td>\n",
       "      <td>A</td>\n",
       "      <td>2</td>\n",
       "      <td>0</td>\n",
       "      <td>3</td>\n",
       "      <td>NaN</td>\n",
       "      <td>NaN</td>\n",
       "      <td>8370.0</td>\n",
       "    </tr>\n",
       "    <tr>\n",
       "      <th>1</th>\n",
       "      <td>P00248942</td>\n",
       "      <td>F</td>\n",
       "      <td>0-17</td>\n",
       "      <td>10</td>\n",
       "      <td>A</td>\n",
       "      <td>2</td>\n",
       "      <td>0</td>\n",
       "      <td>1</td>\n",
       "      <td>6.0</td>\n",
       "      <td>14.0</td>\n",
       "      <td>15200.0</td>\n",
       "    </tr>\n",
       "  </tbody>\n",
       "</table>\n",
       "</div>"
      ],
      "text/plain": [
       "  Product_ID Gender   Age  Occupation City_Category  \\\n",
       "0  P00069042      F  0-17          10             A   \n",
       "1  P00248942      F  0-17          10             A   \n",
       "\n",
       "  Stay_In_Current_City_Years  Marital_Status  Product_Category_1  \\\n",
       "0                          2               0                   3   \n",
       "1                          2               0                   1   \n",
       "\n",
       "   Product_Category_2  Product_Category_3  Purchase  \n",
       "0                 NaN                 NaN    8370.0  \n",
       "1                 6.0                14.0   15200.0  "
      ]
     },
     "execution_count": 11,
     "metadata": {},
     "output_type": "execute_result"
    }
   ],
   "source": [
    "df = df.drop([\"User_ID\"], axis=1)\n",
    "df.head(2)"
   ]
  },
  {
   "cell_type": "markdown",
   "id": "760a6b53",
   "metadata": {
    "direction": "rtl"
   },
   "source": [
    "### حالا می خواهیم متغیرهایی که بصورت ذاتی categorical هستند رو پیدا کنیم و بعد بوسیله روشهای مهندسی ویژگی اونها رو به numerical تبدیل کنیم"
   ]
  },
  {
   "cell_type": "code",
   "execution_count": 12,
   "id": "0e04e721",
   "metadata": {},
   "outputs": [
    {
     "data": {
      "text/plain": [
       "Product_ID                    object\n",
       "Gender                        object\n",
       "Age                           object\n",
       "City_Category                 object\n",
       "Stay_In_Current_City_Years    object\n",
       "dtype: object"
      ]
     },
     "execution_count": 12,
     "metadata": {},
     "output_type": "execute_result"
    }
   ],
   "source": [
    "df.dtypes[df.dtypes==\"object\"]"
   ]
  },
  {
   "cell_type": "markdown",
   "id": "c67cf2fc",
   "metadata": {
    "direction": "rtl"
   },
   "source": [
    "#### اول به مهندسی ویژگی جنیست می پردازیم\n",
    "#### در ابتدا وضعیت جنسیت مشتری ها رو مشخص میکنیم که چه تعداد مرد و زن هستند، و اینکه درصد آنها چقدر است"
   ]
  },
  {
   "cell_type": "code",
   "execution_count": 13,
   "id": "57beff8a",
   "metadata": {
    "scrolled": false
   },
   "outputs": [
    {
     "data": {
      "text/plain": [
       "Gender\n",
       "F    193636\n",
       "M    590031\n",
       "dtype: int64"
      ]
     },
     "execution_count": 13,
     "metadata": {},
     "output_type": "execute_result"
    }
   ],
   "source": [
    "df.groupby(\"Gender\").size()\n"
   ]
  },
  {
   "cell_type": "markdown",
   "id": "696b6c64",
   "metadata": {
    "direction": "rtl"
   },
   "source": [
    "تعداد 193،636 نفر از مشتریان زن و 590،031 نفر ار آنها مرد هستند"
   ]
  },
  {
   "cell_type": "code",
   "execution_count": 14,
   "id": "c40e1006",
   "metadata": {},
   "outputs": [
    {
     "data": {
      "text/plain": [
       "M    0.75291\n",
       "F    0.24709\n",
       "Name: Gender, dtype: float64"
      ]
     },
     "execution_count": 14,
     "metadata": {},
     "output_type": "execute_result"
    }
   ],
   "source": [
    "df.Gender.value_counts(normalize=True)"
   ]
  },
  {
   "cell_type": "markdown",
   "id": "7f1e835f",
   "metadata": {
    "direction": "rtl"
   },
   "source": [
    "اگر درصد بندی کنیم، بیش از 75درصد مشتریان مرد و نزدیک25درصد آنها زن می باشد."
   ]
  },
  {
   "cell_type": "markdown",
   "id": "f0c69d5b",
   "metadata": {
    "direction": "rtl"
   },
   "source": [
    "برای مدیریت داده های غیرعددی و تبدیل آنها به داده های عددی چند راهکار داریم:\n",
    "1. استفاده از متغیر دامی بوسیله کتابخانه پانداس\n",
    "2. استفاده از دستور map یا raplace با ترکیبت دیکشنری\n",
    "3. استفاده از کتابخانه sklearn و توابع encoding و ...."
   ]
  },
  {
   "cell_type": "code",
   "execution_count": 15,
   "id": "524022f6",
   "metadata": {},
   "outputs": [],
   "source": [
    "# برطرف کردن مشکل ویژگی جنسیت\n",
    "#df[\"Gender\"] = pd.get_dummies(df[\"Gender\"],drop_first=1)"
   ]
  },
  {
   "cell_type": "code",
   "execution_count": 15,
   "id": "2a80d5b2",
   "metadata": {},
   "outputs": [],
   "source": [
    "df[\"Gender\"] = df[\"Gender\"].map({\"F\":0 , \"M\":1})"
   ]
  },
  {
   "cell_type": "code",
   "execution_count": 16,
   "id": "08ebc81f",
   "metadata": {},
   "outputs": [
    {
     "data": {
      "text/html": [
       "<div>\n",
       "<style scoped>\n",
       "    .dataframe tbody tr th:only-of-type {\n",
       "        vertical-align: middle;\n",
       "    }\n",
       "\n",
       "    .dataframe tbody tr th {\n",
       "        vertical-align: top;\n",
       "    }\n",
       "\n",
       "    .dataframe thead th {\n",
       "        text-align: right;\n",
       "    }\n",
       "</style>\n",
       "<table border=\"1\" class=\"dataframe\">\n",
       "  <thead>\n",
       "    <tr style=\"text-align: right;\">\n",
       "      <th></th>\n",
       "      <th>Product_ID</th>\n",
       "      <th>Gender</th>\n",
       "      <th>Age</th>\n",
       "      <th>Occupation</th>\n",
       "      <th>City_Category</th>\n",
       "      <th>Stay_In_Current_City_Years</th>\n",
       "      <th>Marital_Status</th>\n",
       "      <th>Product_Category_1</th>\n",
       "      <th>Product_Category_2</th>\n",
       "      <th>Product_Category_3</th>\n",
       "      <th>Purchase</th>\n",
       "    </tr>\n",
       "  </thead>\n",
       "  <tbody>\n",
       "    <tr>\n",
       "      <th>0</th>\n",
       "      <td>P00069042</td>\n",
       "      <td>0</td>\n",
       "      <td>0-17</td>\n",
       "      <td>10</td>\n",
       "      <td>A</td>\n",
       "      <td>2</td>\n",
       "      <td>0</td>\n",
       "      <td>3</td>\n",
       "      <td>NaN</td>\n",
       "      <td>NaN</td>\n",
       "      <td>8370.0</td>\n",
       "    </tr>\n",
       "    <tr>\n",
       "      <th>1</th>\n",
       "      <td>P00248942</td>\n",
       "      <td>0</td>\n",
       "      <td>0-17</td>\n",
       "      <td>10</td>\n",
       "      <td>A</td>\n",
       "      <td>2</td>\n",
       "      <td>0</td>\n",
       "      <td>1</td>\n",
       "      <td>6.0</td>\n",
       "      <td>14.0</td>\n",
       "      <td>15200.0</td>\n",
       "    </tr>\n",
       "  </tbody>\n",
       "</table>\n",
       "</div>"
      ],
      "text/plain": [
       "  Product_ID  Gender   Age  Occupation City_Category  \\\n",
       "0  P00069042       0  0-17          10             A   \n",
       "1  P00248942       0  0-17          10             A   \n",
       "\n",
       "  Stay_In_Current_City_Years  Marital_Status  Product_Category_1  \\\n",
       "0                          2               0                   3   \n",
       "1                          2               0                   1   \n",
       "\n",
       "   Product_Category_2  Product_Category_3  Purchase  \n",
       "0                 NaN                 NaN    8370.0  \n",
       "1                 6.0                14.0   15200.0  "
      ]
     },
     "execution_count": 16,
     "metadata": {},
     "output_type": "execute_result"
    }
   ],
   "source": [
    "df.head(2)"
   ]
  },
  {
   "cell_type": "markdown",
   "id": "3e8b948c",
   "metadata": {
    "direction": "rtl"
   },
   "source": [
    "### مدیریت ویژگی سن\n",
    "#### اول دسته بندی سن را مشخص می کنیم\n",
    "#### اینجا هم سه گزینه برای مدیریت داریم که :\n",
    "1. روش اول استفاده از متغیر دامی است که اینجا پیشنهاد نمیشه\n",
    "2. روش دوم استفاده از دستور reaplace هستش که اینجا استفاده میکنیم\n",
    "3. روش سوم استفاده از labelencode در کتابخانه sklearn هستش"
   ]
  },
  {
   "cell_type": "code",
   "execution_count": 17,
   "id": "9c905d18",
   "metadata": {},
   "outputs": [
    {
     "data": {
      "text/plain": [
       "Age\n",
       "0-17      21334\n",
       "18-25    141953\n",
       "26-35    313015\n",
       "36-45    156724\n",
       "46-50     65278\n",
       "51-55     54784\n",
       "55+       30579\n",
       "dtype: int64"
      ]
     },
     "execution_count": 17,
     "metadata": {},
     "output_type": "execute_result"
    }
   ],
   "source": [
    "df.groupby(\"Age\").size()"
   ]
  },
  {
   "cell_type": "code",
   "execution_count": 18,
   "id": "5668dff9",
   "metadata": {},
   "outputs": [],
   "source": [
    "#روش اول استفاده از دستور متغیر دامی که پیشنهاد نمیشه\n",
    "# روش دوم استفاده از مپ کردن رو ستون سن\n",
    "df[\"Age\"] = df[\"Age\"].replace({\"0-17\":1,\n",
    "                          \"18-25\":2,\n",
    "                          \"26-35\":3,\n",
    "                          \"36-45\":4,\n",
    "                          \"46-50\":5,\n",
    "                          \"51-55\":6,\n",
    "                          \"55+\":7})"
   ]
  },
  {
   "cell_type": "code",
   "execution_count": 19,
   "id": "d8804fae",
   "metadata": {},
   "outputs": [
    {
     "data": {
      "text/plain": [
       "Age\n",
       "1     21334\n",
       "2    141953\n",
       "3    313015\n",
       "4    156724\n",
       "5     65278\n",
       "6     54784\n",
       "7     30579\n",
       "dtype: int64"
      ]
     },
     "execution_count": 19,
     "metadata": {},
     "output_type": "execute_result"
    }
   ],
   "source": [
    "df.groupby(\"Age\").size()"
   ]
  },
  {
   "cell_type": "code",
   "execution_count": null,
   "id": "c770d396",
   "metadata": {},
   "outputs": [],
   "source": [
    "# from sklearn.preprocessing import LabelEncoder\n",
    "#le = LabelEncoder()\n",
    "#df[\"Age\"] = le.fit_transform(df[\"Age\"])"
   ]
  },
  {
   "cell_type": "markdown",
   "id": "1f7da002",
   "metadata": {
    "direction": "rtl"
   },
   "source": [
    "## ویژگی بعدی که نیاز داره مهندسی بشه، دسته بندی شهر هستش\n",
    "## برای این کار ما از متغیر دامی استفاده میکنیم"
   ]
  },
  {
   "cell_type": "code",
   "execution_count": 20,
   "id": "cb4ed123",
   "metadata": {},
   "outputs": [
    {
     "data": {
      "text/plain": [
       "City_Category\n",
       "A    210244\n",
       "B    329739\n",
       "C    243684\n",
       "dtype: int64"
      ]
     },
     "execution_count": 20,
     "metadata": {},
     "output_type": "execute_result"
    }
   ],
   "source": [
    "df.groupby(\"City_Category\").size()"
   ]
  },
  {
   "cell_type": "code",
   "execution_count": 21,
   "id": "2a9586df",
   "metadata": {},
   "outputs": [],
   "source": [
    "df_city = pd.get_dummies(df[\"City_Category\"],drop_first=True)"
   ]
  },
  {
   "cell_type": "code",
   "execution_count": 22,
   "id": "a7986b6d",
   "metadata": {},
   "outputs": [],
   "source": [
    "df = pd.concat([df,df_city],axis=1)"
   ]
  },
  {
   "cell_type": "markdown",
   "id": "58be8cea",
   "metadata": {
    "direction": "rtl"
   },
   "source": [
    "#### حالا که متغیر دامی تعریف کردیم  و به دیتافریم اصلی وصل شد، دیگه نیازی به خود ویژگی City_Category نداریم و لذا  حذفش می کنیم"
   ]
  },
  {
   "cell_type": "code",
   "execution_count": 23,
   "id": "51ca5d2a",
   "metadata": {},
   "outputs": [],
   "source": [
    "df.drop(\"City_Category\", axis=1, inplace=True)"
   ]
  },
  {
   "cell_type": "code",
   "execution_count": 24,
   "id": "910a4881",
   "metadata": {},
   "outputs": [
    {
     "data": {
      "text/html": [
       "<div>\n",
       "<style scoped>\n",
       "    .dataframe tbody tr th:only-of-type {\n",
       "        vertical-align: middle;\n",
       "    }\n",
       "\n",
       "    .dataframe tbody tr th {\n",
       "        vertical-align: top;\n",
       "    }\n",
       "\n",
       "    .dataframe thead th {\n",
       "        text-align: right;\n",
       "    }\n",
       "</style>\n",
       "<table border=\"1\" class=\"dataframe\">\n",
       "  <thead>\n",
       "    <tr style=\"text-align: right;\">\n",
       "      <th></th>\n",
       "      <th>Product_ID</th>\n",
       "      <th>Gender</th>\n",
       "      <th>Age</th>\n",
       "      <th>Occupation</th>\n",
       "      <th>Stay_In_Current_City_Years</th>\n",
       "      <th>Marital_Status</th>\n",
       "      <th>Product_Category_1</th>\n",
       "      <th>Product_Category_2</th>\n",
       "      <th>Product_Category_3</th>\n",
       "      <th>Purchase</th>\n",
       "      <th>B</th>\n",
       "      <th>C</th>\n",
       "    </tr>\n",
       "  </thead>\n",
       "  <tbody>\n",
       "    <tr>\n",
       "      <th>0</th>\n",
       "      <td>P00069042</td>\n",
       "      <td>0</td>\n",
       "      <td>1</td>\n",
       "      <td>10</td>\n",
       "      <td>2</td>\n",
       "      <td>0</td>\n",
       "      <td>3</td>\n",
       "      <td>NaN</td>\n",
       "      <td>NaN</td>\n",
       "      <td>8370.0</td>\n",
       "      <td>0</td>\n",
       "      <td>0</td>\n",
       "    </tr>\n",
       "    <tr>\n",
       "      <th>1</th>\n",
       "      <td>P00248942</td>\n",
       "      <td>0</td>\n",
       "      <td>1</td>\n",
       "      <td>10</td>\n",
       "      <td>2</td>\n",
       "      <td>0</td>\n",
       "      <td>1</td>\n",
       "      <td>6.0</td>\n",
       "      <td>14.0</td>\n",
       "      <td>15200.0</td>\n",
       "      <td>0</td>\n",
       "      <td>0</td>\n",
       "    </tr>\n",
       "  </tbody>\n",
       "</table>\n",
       "</div>"
      ],
      "text/plain": [
       "  Product_ID  Gender  Age  Occupation Stay_In_Current_City_Years  \\\n",
       "0  P00069042       0    1          10                          2   \n",
       "1  P00248942       0    1          10                          2   \n",
       "\n",
       "   Marital_Status  Product_Category_1  Product_Category_2  Product_Category_3  \\\n",
       "0               0                   3                 NaN                 NaN   \n",
       "1               0                   1                 6.0                14.0   \n",
       "\n",
       "   Purchase  B  C  \n",
       "0    8370.0  0  0  \n",
       "1   15200.0  0  0  "
      ]
     },
     "execution_count": 24,
     "metadata": {},
     "output_type": "execute_result"
    }
   ],
   "source": [
    "df.head(2)"
   ]
  },
  {
   "cell_type": "markdown",
   "id": "e89b05dc",
   "metadata": {
    "direction": "rtl"
   },
   "source": [
    "### در نهایت آخرین متغیری که باید مدیریت بشه و به نوع عددی تبدیل بشه Stay_In_Current_City_Years هستش\n",
    "### یه نگاهی به نوع دسته بندیش می اندازیم"
   ]
  },
  {
   "cell_type": "code",
   "execution_count": 25,
   "id": "4be37e16",
   "metadata": {},
   "outputs": [
    {
     "data": {
      "text/plain": [
       "Stay_In_Current_City_Years\n",
       "0     105716\n",
       "1     276425\n",
       "2     145427\n",
       "3     135428\n",
       "4+    120671\n",
       "dtype: int64"
      ]
     },
     "execution_count": 25,
     "metadata": {},
     "output_type": "execute_result"
    }
   ],
   "source": [
    "df.groupby(\"Stay_In_Current_City_Years\").size()"
   ]
  },
  {
   "cell_type": "markdown",
   "id": "34ceeab8",
   "metadata": {
    "direction": "rtl"
   },
   "source": [
    "#### مشاهده میشه که تنها با یک تغییر این ویژگی نیز مدیریت بشه، کافیه +4 رو مدیریت کنیم "
   ]
  },
  {
   "cell_type": "code",
   "execution_count": 26,
   "id": "ff0977cd",
   "metadata": {},
   "outputs": [],
   "source": [
    "df[\"Stay_In_Current_City_Years\"]=df[\"Stay_In_Current_City_Years\"].replace(\"4+\",\"4\")"
   ]
  },
  {
   "cell_type": "code",
   "execution_count": 27,
   "id": "28dc1b3c",
   "metadata": {},
   "outputs": [
    {
     "data": {
      "text/plain": [
       "Stay_In_Current_City_Years\n",
       "0    105716\n",
       "1    276425\n",
       "2    145427\n",
       "3    135428\n",
       "4    120671\n",
       "dtype: int64"
      ]
     },
     "execution_count": 27,
     "metadata": {},
     "output_type": "execute_result"
    }
   ],
   "source": [
    "df.groupby([\"Stay_In_Current_City_Years\"]).size()"
   ]
  },
  {
   "cell_type": "markdown",
   "id": "d1f7c55f",
   "metadata": {
    "direction": "rtl"
   },
   "source": [
    "## حالا همه ی ویژگی هامون بصورت عددی و numerical هستن  و میتونیم بریم سراغ بررسی مقادیر گمشده"
   ]
  },
  {
   "cell_type": "code",
   "execution_count": 28,
   "id": "a3e387a7",
   "metadata": {},
   "outputs": [
    {
     "data": {
      "text/plain": [
       "Product_ID                         0\n",
       "Gender                             0\n",
       "Age                                0\n",
       "Occupation                         0\n",
       "Stay_In_Current_City_Years         0\n",
       "Marital_Status                     0\n",
       "Product_Category_1                 0\n",
       "Product_Category_2            245982\n",
       "Product_Category_3            545809\n",
       "Purchase                      233599\n",
       "B                                  0\n",
       "C                                  0\n",
       "dtype: int64"
      ]
     },
     "execution_count": 28,
     "metadata": {},
     "output_type": "execute_result"
    }
   ],
   "source": [
    "df.isnull().sum()"
   ]
  },
  {
   "cell_type": "markdown",
   "id": "4f65926e",
   "metadata": {
    "direction": "rtl"
   },
   "source": [
    "### همانطور که میبینیم به جز متغیر خرید که متغیر هدف ما هستش، دو متغیر دیگه دارای مقادیر خالی هستن\n",
    "*******************\n",
    "### بریم ببینیم این دو متغیر رو چطوری مدیریت کنیم خوبه. \n",
    "#### یه روش اینه که اول توزیع این دو ویژگی رو بررسی کنیم و بعدش بر اساس توزیع آنها، اقدام مناسب رو انجام بدیم"
   ]
  },
  {
   "cell_type": "markdown",
   "id": "0997f9bd",
   "metadata": {
    "direction": "rtl"
   },
   "source": [
    "### مدیریت مقادیر خالی Product_Category_2\n",
    "### اول ترسیم نمودار"
   ]
  },
  {
   "cell_type": "code",
   "execution_count": 31,
   "id": "5c562774",
   "metadata": {},
   "outputs": [
    {
     "data": {
      "text/plain": [
       "<AxesSubplot: ylabel='Frequency'>"
      ]
     },
     "execution_count": 31,
     "metadata": {},
     "output_type": "execute_result"
    },
    {
     "data": {
      "image/png": "[encoded data removed]",
      "text/plain": [
       "<Figure size 640x480 with 1 Axes>"
      ]
     },
     "metadata": {},
     "output_type": "display_data"
    }
   ],
   "source": [
    "df[\"Product_Category_2\"].plot(kind=\"hist\",bins=50)\n",
    "df[\"Product_Category_3\"].plot(kind=\"hist\",bins=50)"
   ]
  },
  {
   "cell_type": "code",
   "execution_count": 98,
   "id": "d429a049",
   "metadata": {},
   "outputs": [
    {
     "data": {
      "text/plain": [
       "8.0"
      ]
     },
     "execution_count": 98,
     "metadata": {},
     "output_type": "execute_result"
    }
   ],
   "source": [
    "df[\"Product_Category_2\"].mode()[0]"
   ]
  },
  {
   "cell_type": "code",
   "execution_count": 99,
   "id": "cf45e793",
   "metadata": {},
   "outputs": [],
   "source": [
    "mode_pc2 = df[\"Product_Category_2\"].mode()[0]"
   ]
  },
  {
   "cell_type": "code",
   "execution_count": 100,
   "id": "d6dbda3e",
   "metadata": {},
   "outputs": [],
   "source": [
    "df[\"Product_Category_2\"] = df[\"Product_Category_2\"].replace(np.NaN , mode_pc2)"
   ]
  },
  {
   "cell_type": "code",
   "execution_count": 101,
   "id": "cb460904",
   "metadata": {},
   "outputs": [
    {
     "data": {
      "text/plain": [
       "<AxesSubplot: ylabel='Frequency'>"
      ]
     },
     "execution_count": 101,
     "metadata": {},
     "output_type": "execute_result"
    },
    {
     "data": {
      "image/png": "[encoded data removed]",
      "text/plain": [
       "<Figure size 640x480 with 1 Axes>"
      ]
     },
     "metadata": {},
     "output_type": "display_data"
    }
   ],
   "source": [
    "df[\"Product_Category_2\"].plot(kind=\"hist\",bins=50)"
   ]
  },
  {
   "cell_type": "code",
   "execution_count": 102,
   "id": "c3556b93",
   "metadata": {},
   "outputs": [
    {
     "data": {
      "text/plain": [
       "16.0"
      ]
     },
     "execution_count": 102,
     "metadata": {},
     "output_type": "execute_result"
    }
   ],
   "source": [
    "df[\"Product_Category_3\"].mode()[0]"
   ]
  },
  {
   "cell_type": "code",
   "execution_count": 104,
   "id": "e9747711",
   "metadata": {},
   "outputs": [],
   "source": [
    "mode_pc3 = df[\"Product_Category_3\"].mode()[0]"
   ]
  },
  {
   "cell_type": "code",
   "execution_count": 105,
   "id": "2cf40674",
   "metadata": {},
   "outputs": [],
   "source": [
    "df[\"Product_Category_3\"] = df[\"Product_Category_3\"].replace(np.NaN , mode_pc3)"
   ]
  },
  {
   "cell_type": "code",
   "execution_count": 106,
   "id": "2644f326",
   "metadata": {},
   "outputs": [
    {
     "data": {
      "text/plain": [
       "<AxesSubplot: ylabel='Frequency'>"
      ]
     },
     "execution_count": 106,
     "metadata": {},
     "output_type": "execute_result"
    },
    {
     "data": {
      "image/png": "[encoded data removed]",
      "text/plain": [
       "<Figure size 640x480 with 1 Axes>"
      ]
     },
     "metadata": {},
     "output_type": "display_data"
    }
   ],
   "source": [
    "df[\"Product_Category_3\"].plot(kind=\"hist\",bins=50)"
   ]
  },
  {
   "cell_type": "markdown",
   "id": "4ad38aca",
   "metadata": {
    "direction": "rtl"
   },
   "source": [
    "### درنهایت بررسی میکنیم ببینیم مقادیر خالی پر شدند یا خیر؟"
   ]
  },
  {
   "cell_type": "code",
   "execution_count": 107,
   "id": "28a150e6",
   "metadata": {},
   "outputs": [
    {
     "data": {
      "text/plain": [
       "Product_ID                         0\n",
       "Gender                             0\n",
       "Age                                0\n",
       "Occupation                         0\n",
       "Stay_In_Current_City_Years         0\n",
       "Marital_Status                     0\n",
       "Product_Category_1                 0\n",
       "Product_Category_2                 0\n",
       "Product_Category_3                 0\n",
       "Purchase                      233599\n",
       "B                                  0\n",
       "C                                  0\n",
       "dtype: int64"
      ]
     },
     "execution_count": 107,
     "metadata": {},
     "output_type": "execute_result"
    }
   ],
   "source": [
    "df.isna().sum()"
   ]
  },
  {
   "cell_type": "markdown",
   "id": "ed7c3a72",
   "metadata": {
    "direction": "rtl"
   },
   "source": [
    "## حالا باید یه نگاه به تایپ کلی دیتاست میندازیم تا ببینیم تغییرات ما بخوبی اعمال شد یا خیر"
   ]
  },
  {
   "cell_type": "code",
   "execution_count": 108,
   "id": "4d37e461",
   "metadata": {
    "direction": "ltr"
   },
   "outputs": [
    {
     "name": "stdout",
     "output_type": "stream",
     "text": [
      "<class 'pandas.core.frame.DataFrame'>\n",
      "Int64Index: 783667 entries, 0 to 233598\n",
      "Data columns (total 12 columns):\n",
      " #   Column                      Non-Null Count   Dtype  \n",
      "---  ------                      --------------   -----  \n",
      " 0   Product_ID                  783667 non-null  object \n",
      " 1   Gender                      783667 non-null  int64  \n",
      " 2   Age                         783667 non-null  int64  \n",
      " 3   Occupation                  783667 non-null  int64  \n",
      " 4   Stay_In_Current_City_Years  783667 non-null  object \n",
      " 5   Marital_Status              783667 non-null  int64  \n",
      " 6   Product_Category_1          783667 non-null  int64  \n",
      " 7   Product_Category_2          783667 non-null  float64\n",
      " 8   Product_Category_3          783667 non-null  float64\n",
      " 9   Purchase                    550068 non-null  float64\n",
      " 10  B                           783667 non-null  uint8  \n",
      " 11  C                           783667 non-null  uint8  \n",
      "dtypes: float64(3), int64(5), object(2), uint8(2)\n",
      "memory usage: 83.4+ MB\n"
     ]
    }
   ],
   "source": [
    "df.info()"
   ]
  },
  {
   "cell_type": "markdown",
   "id": "662ed21e",
   "metadata": {
    "direction": "rtl"
   },
   "source": [
    "#### مشاهده می شود که بعضی از ویژگی ها مانند: Stay_In_Current_City_Years، B و C تایپ غیرعددی دارند لذا باید اونها رو به عددی تبدیل کنیم هست"
   ]
  },
  {
   "cell_type": "code",
   "execution_count": 109,
   "id": "fff86df8",
   "metadata": {},
   "outputs": [],
   "source": [
    "df[\"Stay_In_Current_City_Years\"]= df[\"Stay_In_Current_City_Years\"].astype(\"int\")"
   ]
  },
  {
   "cell_type": "code",
   "execution_count": 110,
   "id": "8f4d271c",
   "metadata": {},
   "outputs": [],
   "source": [
    "df[\"B\"]= df[\"B\"].astype(int)\n",
    "df[\"C\"]= df[\"C\"].astype(int)"
   ]
  },
  {
   "cell_type": "code",
   "execution_count": 111,
   "id": "9e100234",
   "metadata": {},
   "outputs": [
    {
     "name": "stdout",
     "output_type": "stream",
     "text": [
      "<class 'pandas.core.frame.DataFrame'>\n",
      "Int64Index: 783667 entries, 0 to 233598\n",
      "Data columns (total 12 columns):\n",
      " #   Column                      Non-Null Count   Dtype  \n",
      "---  ------                      --------------   -----  \n",
      " 0   Product_ID                  783667 non-null  object \n",
      " 1   Gender                      783667 non-null  int64  \n",
      " 2   Age                         783667 non-null  int64  \n",
      " 3   Occupation                  783667 non-null  int64  \n",
      " 4   Stay_In_Current_City_Years  783667 non-null  int32  \n",
      " 5   Marital_Status              783667 non-null  int64  \n",
      " 6   Product_Category_1          783667 non-null  int64  \n",
      " 7   Product_Category_2          783667 non-null  float64\n",
      " 8   Product_Category_3          783667 non-null  float64\n",
      " 9   Purchase                    550068 non-null  float64\n",
      " 10  B                           783667 non-null  int32  \n",
      " 11  C                           783667 non-null  int32  \n",
      "dtypes: float64(3), int32(3), int64(5), object(1)\n",
      "memory usage: 84.9+ MB\n"
     ]
    }
   ],
   "source": [
    "df.info()"
   ]
  },
  {
   "cell_type": "markdown",
   "id": "827f44e2",
   "metadata": {
    "direction": "rtl"
   },
   "source": [
    "# مصورسازی"
   ]
  },
  {
   "cell_type": "markdown",
   "id": "e903d5bc",
   "metadata": {
    "direction": "rtl"
   },
   "source": [
    "### نمودار سن در برابر خرید به تفکیک جنسیت"
   ]
  },
  {
   "cell_type": "code",
   "execution_count": 112,
   "id": "aaa7641b",
   "metadata": {},
   "outputs": [
    {
     "data": {
      "text/plain": [
       "<AxesSubplot: xlabel='Age', ylabel='Purchase'>"
      ]
     },
     "execution_count": 112,
     "metadata": {},
     "output_type": "execute_result"
    },
    {
     "data": {
      "image/png": "[encoded data removed]",
      "text/plain": [
       "<Figure size 640x480 with 1 Axes>"
      ]
     },
     "metadata": {},
     "output_type": "display_data"
    }
   ],
   "source": [
    "sns.barplot(x= \"Age\", y= \"Purchase\", hue=\"Gender\", data=df)"
   ]
  },
  {
   "cell_type": "markdown",
   "id": "1d85c7fa",
   "metadata": {
    "direction": "rtl"
   },
   "source": [
    "### مشاهدات\n",
    "1. همانگونه که میبنیم، خرید خوبی در هر یک از گروه های سنی صورت گرفته و بنوعی توازن بر قرار هستش\n",
    "2. جنسیت مردها سقف خرید بیشتری نسبت به جنسیت خانم ها دارند"
   ]
  },
  {
   "cell_type": "markdown",
   "id": "db0332ca",
   "metadata": {
    "direction": "rtl"
   },
   "source": [
    "## نمودار شغل در برابر خرید"
   ]
  },
  {
   "cell_type": "code",
   "execution_count": 113,
   "id": "6dae474c",
   "metadata": {},
   "outputs": [
    {
     "data": {
      "text/plain": [
       "<AxesSubplot: xlabel='Occupation', ylabel='Purchase'>"
      ]
     },
     "execution_count": 113,
     "metadata": {},
     "output_type": "execute_result"
    },
    {
     "data": {
      "image/png": "[encoded data removed]",
      "text/plain": [
       "<Figure size 640x480 with 1 Axes>"
      ]
     },
     "metadata": {},
     "output_type": "display_data"
    }
   ],
   "source": [
    "sns.barplot(x=\"Occupation\", y=\"Purchase\", hue=\"Gender\", data=df)"
   ]
  },
  {
   "cell_type": "markdown",
   "id": "031deac3",
   "metadata": {
    "direction": "rtl"
   },
   "source": [
    "## نمودار سبد کالای 1 در برابر خرید"
   ]
  },
  {
   "cell_type": "code",
   "execution_count": 114,
   "id": "4a5950d6",
   "metadata": {},
   "outputs": [
    {
     "data": {
      "text/plain": [
       "<AxesSubplot: xlabel='Product_Category_1', ylabel='Purchase'>"
      ]
     },
     "execution_count": 114,
     "metadata": {},
     "output_type": "execute_result"
    },
    {
     "data": {
      "image/png": "[encoded data removed]",
      "text/plain": [
       "<Figure size 640x480 with 1 Axes>"
      ]
     },
     "metadata": {},
     "output_type": "display_data"
    }
   ],
   "source": [
    "sns.barplot(x=\"Product_Category_1\", y=\"Purchase\", hue=\"Gender\", data=df)"
   ]
  },
  {
   "cell_type": "markdown",
   "id": "77c23ed1",
   "metadata": {
    "direction": "rtl"
   },
   "source": [
    "## نمودار سبد کالای 2 در برابر خرید"
   ]
  },
  {
   "cell_type": "code",
   "execution_count": 115,
   "id": "4438a9cb",
   "metadata": {},
   "outputs": [
    {
     "data": {
      "text/plain": [
       "<AxesSubplot: xlabel='Product_Category_2', ylabel='Purchase'>"
      ]
     },
     "execution_count": 115,
     "metadata": {},
     "output_type": "execute_result"
    },
    {
     "data": {
      "image/png": "[encoded data removed]",
      "text/plain": [
       "<Figure size 640x480 with 1 Axes>"
      ]
     },
     "metadata": {},
     "output_type": "display_data"
    }
   ],
   "source": [
    "sns.barplot(x=\"Product_Category_2\", y=\"Purchase\", hue=\"Gender\", data=df)"
   ]
  },
  {
   "cell_type": "markdown",
   "id": "b3405510",
   "metadata": {
    "direction": "rtl"
   },
   "source": [
    "## نمودار سبد کالای 3 در برابر خرید"
   ]
  },
  {
   "cell_type": "code",
   "execution_count": 116,
   "id": "ad4a77b1",
   "metadata": {},
   "outputs": [
    {
     "data": {
      "text/plain": [
       "<AxesSubplot: xlabel='Product_Category_3', ylabel='Purchase'>"
      ]
     },
     "execution_count": 116,
     "metadata": {},
     "output_type": "execute_result"
    },
    {
     "data": {
      "image/png": "[encoded data removed]",
      "text/plain": [
       "<Figure size 640x480 with 1 Axes>"
      ]
     },
     "metadata": {},
     "output_type": "display_data"
    }
   ],
   "source": [
    "sns.barplot(x=\"Product_Category_3\", y=\"Purchase\", hue=\"Gender\", data=df)"
   ]
  },
  {
   "cell_type": "markdown",
   "id": "e2e3ca08",
   "metadata": {
    "direction": "rtl"
   },
   "source": [
    "# بدنبال این هستیم که ببینیم برای تخمین مبلغ خرید توسط هر مشتری، ایا رگرسیون خطی مناسب هستش؟\n",
    "1. ### یه راه مصور سازی داده ها هستش.\n",
    "2. ### یه راه دیگه بررسی همبستگی بین ویژگی ها با متغیر هدف هستش، که اگه مقدار اون بزرگتر از0.7 باشه میگیم میشه رابطه رو خطی در نظر گرفت و از رگرسیون خیط استفاده کرد "
   ]
  },
  {
   "cell_type": "code",
   "execution_count": 117,
   "id": "2aa3b4f2",
   "metadata": {},
   "outputs": [
    {
     "data": {
      "text/plain": [
       "Index(['Product_ID', 'Gender', 'Age', 'Occupation',\n",
       "       'Stay_In_Current_City_Years', 'Marital_Status', 'Product_Category_1',\n",
       "       'Product_Category_2', 'Product_Category_3', 'Purchase', 'B', 'C'],\n",
       "      dtype='object')"
      ]
     },
     "execution_count": 117,
     "metadata": {},
     "output_type": "execute_result"
    }
   ],
   "source": [
    "df.columns"
   ]
  },
  {
   "cell_type": "markdown",
   "id": "81faacdd",
   "metadata": {
    "direction": "rtl"
   },
   "source": [
    "## به 'Product_ID' نیازی نیست لذا  حذفش میکنیم"
   ]
  },
  {
   "cell_type": "code",
   "execution_count": 143,
   "id": "49a58171",
   "metadata": {},
   "outputs": [],
   "source": [
    "# df.loc[:,df.columns!=\"Product_ID\"]"
   ]
  },
  {
   "cell_type": "code",
   "execution_count": 135,
   "id": "24bbcd68",
   "metadata": {},
   "outputs": [],
   "source": [
    "df.drop(\"Product_ID\",axis=1, inplace=True)"
   ]
  },
  {
   "cell_type": "code",
   "execution_count": 144,
   "id": "ce9167b5",
   "metadata": {},
   "outputs": [
    {
     "data": {
      "text/html": [
       "<div>\n",
       "<style scoped>\n",
       "    .dataframe tbody tr th:only-of-type {\n",
       "        vertical-align: middle;\n",
       "    }\n",
       "\n",
       "    .dataframe tbody tr th {\n",
       "        vertical-align: top;\n",
       "    }\n",
       "\n",
       "    .dataframe thead th {\n",
       "        text-align: right;\n",
       "    }\n",
       "</style>\n",
       "<table border=\"1\" class=\"dataframe\">\n",
       "  <thead>\n",
       "    <tr style=\"text-align: right;\">\n",
       "      <th></th>\n",
       "      <th>Gender</th>\n",
       "      <th>Age</th>\n",
       "      <th>Occupation</th>\n",
       "      <th>Stay_In_Current_City_Years</th>\n",
       "      <th>Marital_Status</th>\n",
       "      <th>Product_Category_1</th>\n",
       "      <th>Product_Category_2</th>\n",
       "      <th>Product_Category_3</th>\n",
       "      <th>Purchase</th>\n",
       "      <th>B</th>\n",
       "      <th>C</th>\n",
       "    </tr>\n",
       "  </thead>\n",
       "  <tbody>\n",
       "    <tr>\n",
       "      <th>Gender</th>\n",
       "      <td>1.000000</td>\n",
       "      <td>-0.004758</td>\n",
       "      <td>0.116505</td>\n",
       "      <td>0.015026</td>\n",
       "      <td>-0.010945</td>\n",
       "      <td>-0.046208</td>\n",
       "      <td>-0.011851</td>\n",
       "      <td>-0.006651</td>\n",
       "      <td>0.060346</td>\n",
       "      <td>-0.005399</td>\n",
       "      <td>-0.000180</td>\n",
       "    </tr>\n",
       "    <tr>\n",
       "      <th>Age</th>\n",
       "      <td>-0.004758</td>\n",
       "      <td>1.000000</td>\n",
       "      <td>0.090882</td>\n",
       "      <td>-0.004968</td>\n",
       "      <td>0.310747</td>\n",
       "      <td>0.060336</td>\n",
       "      <td>0.041716</td>\n",
       "      <td>0.036721</td>\n",
       "      <td>0.015839</td>\n",
       "      <td>-0.016881</td>\n",
       "      <td>0.110302</td>\n",
       "    </tr>\n",
       "    <tr>\n",
       "      <th>Occupation</th>\n",
       "      <td>0.116505</td>\n",
       "      <td>0.090882</td>\n",
       "      <td>1.000000</td>\n",
       "      <td>0.028488</td>\n",
       "      <td>0.023563</td>\n",
       "      <td>-0.008441</td>\n",
       "      <td>0.001501</td>\n",
       "      <td>-0.001576</td>\n",
       "      <td>0.020833</td>\n",
       "      <td>-0.011721</td>\n",
       "      <td>0.035255</td>\n",
       "    </tr>\n",
       "    <tr>\n",
       "      <th>Stay_In_Current_City_Years</th>\n",
       "      <td>0.015026</td>\n",
       "      <td>-0.004968</td>\n",
       "      <td>0.028488</td>\n",
       "      <td>1.000000</td>\n",
       "      <td>-0.012871</td>\n",
       "      <td>-0.003518</td>\n",
       "      <td>-0.000081</td>\n",
       "      <td>-0.000308</td>\n",
       "      <td>0.005422</td>\n",
       "      <td>0.011011</td>\n",
       "      <td>0.011007</td>\n",
       "    </tr>\n",
       "    <tr>\n",
       "      <th>Marital_Status</th>\n",
       "      <td>-0.010945</td>\n",
       "      <td>0.310747</td>\n",
       "      <td>0.023563</td>\n",
       "      <td>-0.012871</td>\n",
       "      <td>1.000000</td>\n",
       "      <td>0.019579</td>\n",
       "      <td>0.012192</td>\n",
       "      <td>0.013808</td>\n",
       "      <td>-0.000463</td>\n",
       "      <td>-0.002804</td>\n",
       "      <td>0.034377</td>\n",
       "    </tr>\n",
       "    <tr>\n",
       "      <th>Product_Category_1</th>\n",
       "      <td>-0.046208</td>\n",
       "      <td>0.060336</td>\n",
       "      <td>-0.008441</td>\n",
       "      <td>-0.003518</td>\n",
       "      <td>0.019579</td>\n",
       "      <td>1.000000</td>\n",
       "      <td>0.286502</td>\n",
       "      <td>0.319209</td>\n",
       "      <td>-0.343703</td>\n",
       "      <td>-0.003863</td>\n",
       "      <td>-0.012870</td>\n",
       "    </tr>\n",
       "    <tr>\n",
       "      <th>Product_Category_2</th>\n",
       "      <td>-0.011851</td>\n",
       "      <td>0.041716</td>\n",
       "      <td>0.001501</td>\n",
       "      <td>-0.000081</td>\n",
       "      <td>0.012192</td>\n",
       "      <td>0.286502</td>\n",
       "      <td>1.000000</td>\n",
       "      <td>0.463528</td>\n",
       "      <td>-0.128651</td>\n",
       "      <td>-0.003944</td>\n",
       "      <td>-0.000443</td>\n",
       "    </tr>\n",
       "    <tr>\n",
       "      <th>Product_Category_3</th>\n",
       "      <td>-0.006651</td>\n",
       "      <td>0.036721</td>\n",
       "      <td>-0.001576</td>\n",
       "      <td>-0.000308</td>\n",
       "      <td>0.013808</td>\n",
       "      <td>0.319209</td>\n",
       "      <td>0.463528</td>\n",
       "      <td>1.000000</td>\n",
       "      <td>-0.185945</td>\n",
       "      <td>0.004291</td>\n",
       "      <td>-0.020687</td>\n",
       "    </tr>\n",
       "    <tr>\n",
       "      <th>Purchase</th>\n",
       "      <td>0.060346</td>\n",
       "      <td>0.015839</td>\n",
       "      <td>0.020833</td>\n",
       "      <td>0.005422</td>\n",
       "      <td>-0.000463</td>\n",
       "      <td>-0.343703</td>\n",
       "      <td>-0.128651</td>\n",
       "      <td>-0.185945</td>\n",
       "      <td>1.000000</td>\n",
       "      <td>-0.019098</td>\n",
       "      <td>0.061012</td>\n",
       "    </tr>\n",
       "    <tr>\n",
       "      <th>B</th>\n",
       "      <td>-0.005399</td>\n",
       "      <td>-0.016881</td>\n",
       "      <td>-0.011721</td>\n",
       "      <td>0.011011</td>\n",
       "      <td>-0.002804</td>\n",
       "      <td>-0.003863</td>\n",
       "      <td>-0.003944</td>\n",
       "      <td>0.004291</td>\n",
       "      <td>-0.019098</td>\n",
       "      <td>1.000000</td>\n",
       "      <td>-0.572552</td>\n",
       "    </tr>\n",
       "    <tr>\n",
       "      <th>C</th>\n",
       "      <td>-0.000180</td>\n",
       "      <td>0.110302</td>\n",
       "      <td>0.035255</td>\n",
       "      <td>0.011007</td>\n",
       "      <td>0.034377</td>\n",
       "      <td>-0.012870</td>\n",
       "      <td>-0.000443</td>\n",
       "      <td>-0.020687</td>\n",
       "      <td>0.061012</td>\n",
       "      <td>-0.572552</td>\n",
       "      <td>1.000000</td>\n",
       "    </tr>\n",
       "  </tbody>\n",
       "</table>\n",
       "</div>"
      ],
      "text/plain": [
       "                              Gender       Age  Occupation  \\\n",
       "Gender                      1.000000 -0.004758    0.116505   \n",
       "Age                        -0.004758  1.000000    0.090882   \n",
       "Occupation                  0.116505  0.090882    1.000000   \n",
       "Stay_In_Current_City_Years  0.015026 -0.004968    0.028488   \n",
       "Marital_Status             -0.010945  0.310747    0.023563   \n",
       "Product_Category_1         -0.046208  0.060336   -0.008441   \n",
       "Product_Category_2         -0.011851  0.041716    0.001501   \n",
       "Product_Category_3         -0.006651  0.036721   -0.001576   \n",
       "Purchase                    0.060346  0.015839    0.020833   \n",
       "B                          -0.005399 -0.016881   -0.011721   \n",
       "C                          -0.000180  0.110302    0.035255   \n",
       "\n",
       "                            Stay_In_Current_City_Years  Marital_Status  \\\n",
       "Gender                                        0.015026       -0.010945   \n",
       "Age                                          -0.004968        0.310747   \n",
       "Occupation                                    0.028488        0.023563   \n",
       "Stay_In_Current_City_Years                    1.000000       -0.012871   \n",
       "Marital_Status                               -0.012871        1.000000   \n",
       "Product_Category_1                           -0.003518        0.019579   \n",
       "Product_Category_2                           -0.000081        0.012192   \n",
       "Product_Category_3                           -0.000308        0.013808   \n",
       "Purchase                                      0.005422       -0.000463   \n",
       "B                                             0.011011       -0.002804   \n",
       "C                                             0.011007        0.034377   \n",
       "\n",
       "                            Product_Category_1  Product_Category_2  \\\n",
       "Gender                               -0.046208           -0.011851   \n",
       "Age                                   0.060336            0.041716   \n",
       "Occupation                           -0.008441            0.001501   \n",
       "Stay_In_Current_City_Years           -0.003518           -0.000081   \n",
       "Marital_Status                        0.019579            0.012192   \n",
       "Product_Category_1                    1.000000            0.286502   \n",
       "Product_Category_2                    0.286502            1.000000   \n",
       "Product_Category_3                    0.319209            0.463528   \n",
       "Purchase                             -0.343703           -0.128651   \n",
       "B                                    -0.003863           -0.003944   \n",
       "C                                    -0.012870           -0.000443   \n",
       "\n",
       "                            Product_Category_3  Purchase         B         C  \n",
       "Gender                               -0.006651  0.060346 -0.005399 -0.000180  \n",
       "Age                                   0.036721  0.015839 -0.016881  0.110302  \n",
       "Occupation                           -0.001576  0.020833 -0.011721  0.035255  \n",
       "Stay_In_Current_City_Years           -0.000308  0.005422  0.011011  0.011007  \n",
       "Marital_Status                        0.013808 -0.000463 -0.002804  0.034377  \n",
       "Product_Category_1                    0.319209 -0.343703 -0.003863 -0.012870  \n",
       "Product_Category_2                    0.463528 -0.128651 -0.003944 -0.000443  \n",
       "Product_Category_3                    1.000000 -0.185945  0.004291 -0.020687  \n",
       "Purchase                             -0.185945  1.000000 -0.019098  0.061012  \n",
       "B                                     0.004291 -0.019098  1.000000 -0.572552  \n",
       "C                                    -0.020687  0.061012 -0.572552  1.000000  "
      ]
     },
     "execution_count": 144,
     "metadata": {},
     "output_type": "execute_result"
    }
   ],
   "source": [
    "corr =df.corr()\n",
    "corr"
   ]
  },
  {
   "cell_type": "code",
   "execution_count": 140,
   "id": "d890330d",
   "metadata": {},
   "outputs": [
    {
     "data": {
      "text/plain": [
       "<AxesSubplot: >"
      ]
     },
     "execution_count": 140,
     "metadata": {},
     "output_type": "execute_result"
    },
    {
     "data": {
      "image/png": "[encoded data removed]",
      "text/plain": [
       "<Figure size 640x480 with 2 Axes>"
      ]
     },
     "metadata": {},
     "output_type": "display_data"
    }
   ],
   "source": [
    "sns.heatmap(corr)"
   ]
  },
  {
   "cell_type": "markdown",
   "id": "ad81c57e",
   "metadata": {
    "direction": "rtl"
   },
   "source": [
    "## مشاهدات\n",
    "1. ### همانطور که مشاهده میشه، همبستگی قوی ای بین ویژگی ها با متغیر هدف وجود نداره و احتمالا رگرسیون خطی ساده جواب مناسبی نخواهد داد\n",
    "2. ### به هر حال مدل رگرسیون خطی رو امتحان کرده و R2 آن را حساب میکنیم"
   ]
  },
  {
   "cell_type": "markdown",
   "id": "32bf2a25",
   "metadata": {
    "direction": "rtl"
   },
   "source": [
    "### حالا نوبت اینه که بریم مدل مد نظرمون رو بسازیم\n"
   ]
  },
  {
   "cell_type": "markdown",
   "id": "4d26e5f6",
   "metadata": {
    "direction": "rtl"
   },
   "source": [
    "## اول باید مقادیر تست رو از مقادیر آموزشی جدا میکنیم، چون میخواهیم مدل رو بر اساس مقادیر آموزشی بسازیم"
   ]
  },
  {
   "cell_type": "code",
   "execution_count": 145,
   "id": "f43f1ea2",
   "metadata": {},
   "outputs": [
    {
     "data": {
      "text/html": [
       "<div>\n",
       "<style scoped>\n",
       "    .dataframe tbody tr th:only-of-type {\n",
       "        vertical-align: middle;\n",
       "    }\n",
       "\n",
       "    .dataframe tbody tr th {\n",
       "        vertical-align: top;\n",
       "    }\n",
       "\n",
       "    .dataframe thead th {\n",
       "        text-align: right;\n",
       "    }\n",
       "</style>\n",
       "<table border=\"1\" class=\"dataframe\">\n",
       "  <thead>\n",
       "    <tr style=\"text-align: right;\">\n",
       "      <th></th>\n",
       "      <th>Gender</th>\n",
       "      <th>Age</th>\n",
       "      <th>Occupation</th>\n",
       "      <th>Stay_In_Current_City_Years</th>\n",
       "      <th>Marital_Status</th>\n",
       "      <th>Product_Category_1</th>\n",
       "      <th>Product_Category_2</th>\n",
       "      <th>Product_Category_3</th>\n",
       "      <th>Purchase</th>\n",
       "      <th>B</th>\n",
       "      <th>C</th>\n",
       "    </tr>\n",
       "  </thead>\n",
       "  <tbody>\n",
       "    <tr>\n",
       "      <th>0</th>\n",
       "      <td>1</td>\n",
       "      <td>5</td>\n",
       "      <td>7</td>\n",
       "      <td>2</td>\n",
       "      <td>1</td>\n",
       "      <td>1</td>\n",
       "      <td>11.0</td>\n",
       "      <td>16.0</td>\n",
       "      <td>NaN</td>\n",
       "      <td>1</td>\n",
       "      <td>0</td>\n",
       "    </tr>\n",
       "    <tr>\n",
       "      <th>1</th>\n",
       "      <td>1</td>\n",
       "      <td>3</td>\n",
       "      <td>17</td>\n",
       "      <td>0</td>\n",
       "      <td>0</td>\n",
       "      <td>3</td>\n",
       "      <td>5.0</td>\n",
       "      <td>16.0</td>\n",
       "      <td>NaN</td>\n",
       "      <td>0</td>\n",
       "      <td>1</td>\n",
       "    </tr>\n",
       "    <tr>\n",
       "      <th>2</th>\n",
       "      <td>0</td>\n",
       "      <td>4</td>\n",
       "      <td>1</td>\n",
       "      <td>4</td>\n",
       "      <td>1</td>\n",
       "      <td>5</td>\n",
       "      <td>14.0</td>\n",
       "      <td>16.0</td>\n",
       "      <td>NaN</td>\n",
       "      <td>1</td>\n",
       "      <td>0</td>\n",
       "    </tr>\n",
       "    <tr>\n",
       "      <th>3</th>\n",
       "      <td>0</td>\n",
       "      <td>4</td>\n",
       "      <td>1</td>\n",
       "      <td>4</td>\n",
       "      <td>1</td>\n",
       "      <td>4</td>\n",
       "      <td>9.0</td>\n",
       "      <td>16.0</td>\n",
       "      <td>NaN</td>\n",
       "      <td>1</td>\n",
       "      <td>0</td>\n",
       "    </tr>\n",
       "    <tr>\n",
       "      <th>4</th>\n",
       "      <td>0</td>\n",
       "      <td>3</td>\n",
       "      <td>1</td>\n",
       "      <td>1</td>\n",
       "      <td>0</td>\n",
       "      <td>4</td>\n",
       "      <td>5.0</td>\n",
       "      <td>12.0</td>\n",
       "      <td>NaN</td>\n",
       "      <td>0</td>\n",
       "      <td>1</td>\n",
       "    </tr>\n",
       "    <tr>\n",
       "      <th>...</th>\n",
       "      <td>...</td>\n",
       "      <td>...</td>\n",
       "      <td>...</td>\n",
       "      <td>...</td>\n",
       "      <td>...</td>\n",
       "      <td>...</td>\n",
       "      <td>...</td>\n",
       "      <td>...</td>\n",
       "      <td>...</td>\n",
       "      <td>...</td>\n",
       "      <td>...</td>\n",
       "    </tr>\n",
       "    <tr>\n",
       "      <th>233594</th>\n",
       "      <td>0</td>\n",
       "      <td>3</td>\n",
       "      <td>15</td>\n",
       "      <td>4</td>\n",
       "      <td>1</td>\n",
       "      <td>8</td>\n",
       "      <td>8.0</td>\n",
       "      <td>16.0</td>\n",
       "      <td>NaN</td>\n",
       "      <td>1</td>\n",
       "      <td>0</td>\n",
       "    </tr>\n",
       "    <tr>\n",
       "      <th>233595</th>\n",
       "      <td>0</td>\n",
       "      <td>3</td>\n",
       "      <td>15</td>\n",
       "      <td>4</td>\n",
       "      <td>1</td>\n",
       "      <td>5</td>\n",
       "      <td>8.0</td>\n",
       "      <td>16.0</td>\n",
       "      <td>NaN</td>\n",
       "      <td>1</td>\n",
       "      <td>0</td>\n",
       "    </tr>\n",
       "    <tr>\n",
       "      <th>233596</th>\n",
       "      <td>0</td>\n",
       "      <td>3</td>\n",
       "      <td>15</td>\n",
       "      <td>4</td>\n",
       "      <td>1</td>\n",
       "      <td>1</td>\n",
       "      <td>5.0</td>\n",
       "      <td>12.0</td>\n",
       "      <td>NaN</td>\n",
       "      <td>1</td>\n",
       "      <td>0</td>\n",
       "    </tr>\n",
       "    <tr>\n",
       "      <th>233597</th>\n",
       "      <td>0</td>\n",
       "      <td>5</td>\n",
       "      <td>1</td>\n",
       "      <td>4</td>\n",
       "      <td>0</td>\n",
       "      <td>10</td>\n",
       "      <td>16.0</td>\n",
       "      <td>16.0</td>\n",
       "      <td>NaN</td>\n",
       "      <td>0</td>\n",
       "      <td>1</td>\n",
       "    </tr>\n",
       "    <tr>\n",
       "      <th>233598</th>\n",
       "      <td>0</td>\n",
       "      <td>5</td>\n",
       "      <td>0</td>\n",
       "      <td>4</td>\n",
       "      <td>1</td>\n",
       "      <td>4</td>\n",
       "      <td>5.0</td>\n",
       "      <td>16.0</td>\n",
       "      <td>NaN</td>\n",
       "      <td>1</td>\n",
       "      <td>0</td>\n",
       "    </tr>\n",
       "  </tbody>\n",
       "</table>\n",
       "<p>233599 rows × 11 columns</p>\n",
       "</div>"
      ],
      "text/plain": [
       "        Gender  Age  Occupation  Stay_In_Current_City_Years  Marital_Status  \\\n",
       "0            1    5           7                           2               1   \n",
       "1            1    3          17                           0               0   \n",
       "2            0    4           1                           4               1   \n",
       "3            0    4           1                           4               1   \n",
       "4            0    3           1                           1               0   \n",
       "...        ...  ...         ...                         ...             ...   \n",
       "233594       0    3          15                           4               1   \n",
       "233595       0    3          15                           4               1   \n",
       "233596       0    3          15                           4               1   \n",
       "233597       0    5           1                           4               0   \n",
       "233598       0    5           0                           4               1   \n",
       "\n",
       "        Product_Category_1  Product_Category_2  Product_Category_3  Purchase  \\\n",
       "0                        1                11.0                16.0       NaN   \n",
       "1                        3                 5.0                16.0       NaN   \n",
       "2                        5                14.0                16.0       NaN   \n",
       "3                        4                 9.0                16.0       NaN   \n",
       "4                        4                 5.0                12.0       NaN   \n",
       "...                    ...                 ...                 ...       ...   \n",
       "233594                   8                 8.0                16.0       NaN   \n",
       "233595                   5                 8.0                16.0       NaN   \n",
       "233596                   1                 5.0                12.0       NaN   \n",
       "233597                  10                16.0                16.0       NaN   \n",
       "233598                   4                 5.0                16.0       NaN   \n",
       "\n",
       "        B  C  \n",
       "0       1  0  \n",
       "1       0  1  \n",
       "2       1  0  \n",
       "3       1  0  \n",
       "4       0  1  \n",
       "...    .. ..  \n",
       "233594  1  0  \n",
       "233595  1  0  \n",
       "233596  1  0  \n",
       "233597  0  1  \n",
       "233598  1  0  \n",
       "\n",
       "[233599 rows x 11 columns]"
      ]
     },
     "execution_count": 145,
     "metadata": {},
     "output_type": "execute_result"
    }
   ],
   "source": [
    "df[df[\"Purchase\"].isnull()]"
   ]
  },
  {
   "cell_type": "markdown",
   "id": "10fa57bc",
   "metadata": {
    "direction": "rtl"
   },
   "source": [
    "## به روش زیر دیتافریم تست رو جدا میکنیم\n",
    "### میگیم مواردی که مقدار خرید خالی دارن مربوط به تست هستن، پس اونا رو بریز توی تست"
   ]
  },
  {
   "cell_type": "code",
   "execution_count": 146,
   "id": "ad1c1ed4",
   "metadata": {},
   "outputs": [],
   "source": [
    "df_test = df[df[\"Purchase\"].isnull()]"
   ]
  },
  {
   "cell_type": "markdown",
   "id": "aa6da835",
   "metadata": {
    "direction": "rtl"
   },
   "source": [
    "### حالا میگیم اون داده هایی که مقدار خرید غیر صفر دارن مربطو به داده های آموزشی هستن، پس اونا رو بریز تو آمورشی\n"
   ]
  },
  {
   "cell_type": "code",
   "execution_count": 147,
   "id": "04336558",
   "metadata": {},
   "outputs": [],
   "source": [
    "df_train = df[~df[\"Purchase\"].isnull()]"
   ]
  },
  {
   "cell_type": "code",
   "execution_count": 148,
   "id": "d95bc06b",
   "metadata": {},
   "outputs": [
    {
     "data": {
      "text/html": [
       "<div>\n",
       "<style scoped>\n",
       "    .dataframe tbody tr th:only-of-type {\n",
       "        vertical-align: middle;\n",
       "    }\n",
       "\n",
       "    .dataframe tbody tr th {\n",
       "        vertical-align: top;\n",
       "    }\n",
       "\n",
       "    .dataframe thead th {\n",
       "        text-align: right;\n",
       "    }\n",
       "</style>\n",
       "<table border=\"1\" class=\"dataframe\">\n",
       "  <thead>\n",
       "    <tr style=\"text-align: right;\">\n",
       "      <th></th>\n",
       "      <th>Gender</th>\n",
       "      <th>Age</th>\n",
       "      <th>Occupation</th>\n",
       "      <th>Stay_In_Current_City_Years</th>\n",
       "      <th>Marital_Status</th>\n",
       "      <th>Product_Category_1</th>\n",
       "      <th>Product_Category_2</th>\n",
       "      <th>Product_Category_3</th>\n",
       "      <th>Purchase</th>\n",
       "      <th>B</th>\n",
       "      <th>C</th>\n",
       "    </tr>\n",
       "  </thead>\n",
       "  <tbody>\n",
       "    <tr>\n",
       "      <th>0</th>\n",
       "      <td>0</td>\n",
       "      <td>1</td>\n",
       "      <td>10</td>\n",
       "      <td>2</td>\n",
       "      <td>0</td>\n",
       "      <td>3</td>\n",
       "      <td>8.0</td>\n",
       "      <td>16.0</td>\n",
       "      <td>8370.0</td>\n",
       "      <td>0</td>\n",
       "      <td>0</td>\n",
       "    </tr>\n",
       "  </tbody>\n",
       "</table>\n",
       "</div>"
      ],
      "text/plain": [
       "   Gender  Age  Occupation  Stay_In_Current_City_Years  Marital_Status  \\\n",
       "0       0    1          10                           2               0   \n",
       "\n",
       "   Product_Category_1  Product_Category_2  Product_Category_3  Purchase  B  C  \n",
       "0                   3                 8.0                16.0    8370.0  0  0  "
      ]
     },
     "execution_count": 148,
     "metadata": {},
     "output_type": "execute_result"
    }
   ],
   "source": [
    "df_train.head(1)"
   ]
  },
  {
   "cell_type": "markdown",
   "id": "f6fed78e",
   "metadata": {
    "direction": "rtl"
   },
   "source": [
    "###  حالا باید داده های آموزشی رو برای پیش پردازش  به دو دسته X(مستقل) و y(وابسته) تقسیم کنیم"
   ]
  },
  {
   "cell_type": "code",
   "execution_count": 149,
   "id": "d5ed8949",
   "metadata": {},
   "outputs": [],
   "source": [
    "X = df_train.drop(\"Purchase\", axis=1)"
   ]
  },
  {
   "cell_type": "code",
   "execution_count": 150,
   "id": "d6f39ff7",
   "metadata": {},
   "outputs": [
    {
     "data": {
      "text/html": [
       "<div>\n",
       "<style scoped>\n",
       "    .dataframe tbody tr th:only-of-type {\n",
       "        vertical-align: middle;\n",
       "    }\n",
       "\n",
       "    .dataframe tbody tr th {\n",
       "        vertical-align: top;\n",
       "    }\n",
       "\n",
       "    .dataframe thead th {\n",
       "        text-align: right;\n",
       "    }\n",
       "</style>\n",
       "<table border=\"1\" class=\"dataframe\">\n",
       "  <thead>\n",
       "    <tr style=\"text-align: right;\">\n",
       "      <th></th>\n",
       "      <th>Gender</th>\n",
       "      <th>Age</th>\n",
       "      <th>Occupation</th>\n",
       "      <th>Stay_In_Current_City_Years</th>\n",
       "      <th>Marital_Status</th>\n",
       "      <th>Product_Category_1</th>\n",
       "      <th>Product_Category_2</th>\n",
       "      <th>Product_Category_3</th>\n",
       "      <th>B</th>\n",
       "      <th>C</th>\n",
       "    </tr>\n",
       "  </thead>\n",
       "  <tbody>\n",
       "    <tr>\n",
       "      <th>0</th>\n",
       "      <td>0</td>\n",
       "      <td>1</td>\n",
       "      <td>10</td>\n",
       "      <td>2</td>\n",
       "      <td>0</td>\n",
       "      <td>3</td>\n",
       "      <td>8.0</td>\n",
       "      <td>16.0</td>\n",
       "      <td>0</td>\n",
       "      <td>0</td>\n",
       "    </tr>\n",
       "    <tr>\n",
       "      <th>1</th>\n",
       "      <td>0</td>\n",
       "      <td>1</td>\n",
       "      <td>10</td>\n",
       "      <td>2</td>\n",
       "      <td>0</td>\n",
       "      <td>1</td>\n",
       "      <td>6.0</td>\n",
       "      <td>14.0</td>\n",
       "      <td>0</td>\n",
       "      <td>0</td>\n",
       "    </tr>\n",
       "  </tbody>\n",
       "</table>\n",
       "</div>"
      ],
      "text/plain": [
       "   Gender  Age  Occupation  Stay_In_Current_City_Years  Marital_Status  \\\n",
       "0       0    1          10                           2               0   \n",
       "1       0    1          10                           2               0   \n",
       "\n",
       "   Product_Category_1  Product_Category_2  Product_Category_3  B  C  \n",
       "0                   3                 8.0                16.0  0  0  \n",
       "1                   1                 6.0                14.0  0  0  "
      ]
     },
     "execution_count": 150,
     "metadata": {},
     "output_type": "execute_result"
    }
   ],
   "source": [
    "X.head(2)"
   ]
  },
  {
   "cell_type": "code",
   "execution_count": 151,
   "id": "7b8ed7d8",
   "metadata": {},
   "outputs": [],
   "source": [
    "X = X.values"
   ]
  },
  {
   "cell_type": "code",
   "execution_count": 152,
   "id": "a55f2cb2",
   "metadata": {},
   "outputs": [],
   "source": [
    "y = df_train.loc[:,\"Purchase\"]"
   ]
  },
  {
   "cell_type": "markdown",
   "id": "78a46c6f",
   "metadata": {
    "direction": "rtl"
   },
   "source": [
    "## تقسیم داده ها  به دو دسته"
   ]
  },
  {
   "cell_type": "code",
   "execution_count": 153,
   "id": "1cb0ce05",
   "metadata": {},
   "outputs": [],
   "source": [
    "from sklearn.model_selection import train_test_split"
   ]
  },
  {
   "cell_type": "code",
   "execution_count": 168,
   "id": "b54ab1ed",
   "metadata": {},
   "outputs": [],
   "source": [
    "X_train, X_test, y_train, y_test = train_test_split(X, y, test_size=0.33, random_state=123)"
   ]
  },
  {
   "cell_type": "code",
   "execution_count": 169,
   "id": "cfa65f35",
   "metadata": {},
   "outputs": [
    {
     "data": {
      "text/plain": [
       "((368545, 10), (181523, 10), (368545,), (181523,))"
      ]
     },
     "execution_count": 169,
     "metadata": {},
     "output_type": "execute_result"
    }
   ],
   "source": [
    "X_train.shape , X_test.shape , y_train.shape , y_test.shape"
   ]
  },
  {
   "cell_type": "markdown",
   "id": "b887e73b",
   "metadata": {
    "direction": "rtl"
   },
   "source": [
    "## حالا باید داده ها رو نرمال سازی کنیم\n"
   ]
  },
  {
   "cell_type": "code",
   "execution_count": 160,
   "id": "27cc3780",
   "metadata": {},
   "outputs": [],
   "source": [
    "from sklearn.preprocessing import StandardScaler, normalize"
   ]
  },
  {
   "cell_type": "code",
   "execution_count": 157,
   "id": "b3673d6b",
   "metadata": {},
   "outputs": [],
   "source": [
    "#st = StandardScaler()\n",
    "# X_train = st.fit_transform(X_train)"
   ]
  },
  {
   "cell_type": "code",
   "execution_count": 163,
   "id": "895f6b97",
   "metadata": {},
   "outputs": [],
   "source": [
    "X_train = normalize(X_train)"
   ]
  },
  {
   "cell_type": "code",
   "execution_count": 164,
   "id": "82ae317e",
   "metadata": {},
   "outputs": [
    {
     "data": {
      "text/plain": [
       "array([[ 0.22301153, -0.43063582,  0.47432411, ...,  0.14397279,\n",
       "         0.45883573, -0.26249385],\n",
       "       [-0.52079615,  0.11108402, -0.36860411, ..., -0.21573377,\n",
       "        -0.25312664, -0.20013426],\n",
       "       [ 0.17043417,  0.11134703,  0.27100038, ..., -0.65127683,\n",
       "        -0.25372595,  0.44350957],\n",
       "       ...,\n",
       "       [ 0.23014153,  0.15035468, -0.06648762, ...,  0.14857581,\n",
       "         0.47350538, -0.27088616],\n",
       "       [ 0.17398956, -0.11115224,  0.37005911, ..., -0.66486299,\n",
       "         0.35797535, -0.20479296],\n",
       "       [ 0.18947935, -0.1210478 ,  0.19956228, ...,  0.12232494,\n",
       "         0.38984486, -0.22302508]])"
      ]
     },
     "execution_count": 164,
     "metadata": {},
     "output_type": "execute_result"
    }
   ],
   "source": [
    "X_train "
   ]
  },
  {
   "cell_type": "code",
   "execution_count": 165,
   "id": "f376bdd9",
   "metadata": {},
   "outputs": [],
   "source": [
    "X_test  = normalize(X_test)"
   ]
  },
  {
   "cell_type": "markdown",
   "id": "dbe815f3",
   "metadata": {
    "direction": "rtl"
   },
   "source": [
    "# مدل ها  رو می سازیم و بعد ارزیابی می کنیم"
   ]
  },
  {
   "cell_type": "code",
   "execution_count": 166,
   "id": "e1ada475",
   "metadata": {},
   "outputs": [],
   "source": [
    "from sklearn.linear_model import LinearRegression\n",
    "from sklearn.metrics import r2_score, mean_squared_error"
   ]
  },
  {
   "cell_type": "code",
   "execution_count": 167,
   "id": "0fdb277d",
   "metadata": {},
   "outputs": [
    {
     "data": {
      "text/plain": [
       "-0.1571994628309792"
      ]
     },
     "execution_count": 167,
     "metadata": {},
     "output_type": "execute_result"
    }
   ],
   "source": [
    "lr = LinearRegression()\n",
    "model1 =lr.fit(X_train , y_train)\n",
    "y_hat = model1.predict(X_test)\n",
    "r2_score(y_test , y_hat)"
   ]
  },
  {
   "cell_type": "markdown",
   "id": "5e104625",
   "metadata": {
    "direction": "rtl"
   },
   "source": [
    "# مشاهدات\n",
    "# مقدار آر2 بشدت پایین و لذا مدل رگرسیون خطی اینجا اصلا کاربردی نداره"
   ]
  },
  {
   "cell_type": "code",
   "execution_count": null,
   "id": "23a2f896",
   "metadata": {},
   "outputs": [],
   "source": [
    "#وارد کردن همه ی الگوریتم های داخل سایکیت لرن "
   ]
  },
  {
   "cell_type": "code",
   "execution_count": null,
   "id": "1ee3e0d1",
   "metadata": {},
   "outputs": [],
   "source": [
    "from sklearn.utils import all_estimators"
   ]
  },
  {
   "cell_type": "code",
   "execution_count": null,
   "id": "30a7be98",
   "metadata": {},
   "outputs": [],
   "source": [
    "# انتخاب یکی از الگوریتمهای داخل سایکیتلرن و نمایش آن\n",
    "# {“classifier”, “regressor”, “cluster”, “transformer”}"
   ]
  },
  {
   "cell_type": "code",
   "execution_count": null,
   "id": "dd217ed2",
   "metadata": {},
   "outputs": [],
   "source": [
    "all_estimators(\"regressor\")"
   ]
  },
  {
   "cell_type": "code",
   "execution_count": null,
   "id": "b0690b0e",
   "metadata": {},
   "outputs": [],
   "source": [
    "----"
   ]
  },
  {
   "cell_type": "code",
   "execution_count": null,
   "id": "b86bd29e",
   "metadata": {},
   "outputs": [],
   "source": [
    "from sklearn.tree._classes import DecisionTreeRegressor"
   ]
  },
  {
   "cell_type": "code",
   "execution_count": null,
   "id": "2135aa29",
   "metadata": {},
   "outputs": [],
   "source": [
    "dt = DecisionTreeRegressor()\n",
    "model2 = dt.fit(X_train,y_train)\n",
    "y_hat2 =model2.predict(X_test)\n",
    "r_squared = r2_score(y_test, y_hat2)\n",
    "rmse = np.sqrt(mean_squared_error(y_test, y_hat2))\n",
    "print(\"R2: \",r_squared ,\"\\n\",\"RMSE: \",rmse)"
   ]
  },
  {
   "cell_type": "code",
   "execution_count": null,
   "id": "96e712f0",
   "metadata": {},
   "outputs": [],
   "source": [
    "from sklearn.svm import SVR"
   ]
  },
  {
   "cell_type": "code",
   "execution_count": null,
   "id": "585a69bd",
   "metadata": {},
   "outputs": [],
   "source": [
    "# kernel : {'linear', 'poly', 'rbf', 'sigmoid', 'precomputed'}\n",
    "sv = SVR(kernel=\"linear\")\n",
    "model3 = sv.fit(X_train,y_train)\n",
    "y_hat3 =model3.predict(X_test)\n",
    "r_squared3 = r2_score(y_test, y_hat3)\n",
    "rmse3 = np.sqrt(mean_squared_error(y_test, y_hat3))\n",
    "print(\"R2: \",r_squared3 ,\"\\n\",\"RMSE: \",rmse3)"
   ]
  },
  {
   "cell_type": "code",
   "execution_count": null,
   "id": "acc2f6c9",
   "metadata": {},
   "outputs": [],
   "source": [
    "from sklearn.neighbors import KNeighborsRegressor"
   ]
  },
  {
   "cell_type": "code",
   "execution_count": null,
   "id": "042f79b2",
   "metadata": {},
   "outputs": [],
   "source": [
    "kn=KNeighborsRegressor(n_neighbors=7)\n",
    "model4 = kn.fit(X_train,y_train)\n",
    "y_hat4 =model4.predict(X_test)\n",
    "r_squared4 = r2_score(y_test, y_hat4)\n",
    "rmse4 = np.sqrt(mean_squared_error(y_test, y_hat4))\n",
    "print(\"R2: \",r_squared4 ,\"\\n\",\"RMSE: \",rmse4)"
   ]
  },
  {
   "cell_type": "code",
   "execution_count": null,
   "id": "331e04db",
   "metadata": {},
   "outputs": [],
   "source": [
    "from sklearn.ensemble import RandomForestRegressor"
   ]
  },
  {
   "cell_type": "code",
   "execution_count": null,
   "id": "727d1ddc",
   "metadata": {},
   "outputs": [],
   "source": [
    "rf = RandomForestRegressor()\n",
    "model5 = rf.fit(X_train,y_train)\n",
    "y_hat5 =model5.predict(X_test)\n",
    "r_squared5 = r2_score(y_test, y_hat5)\n",
    "rmse5 = np.sqrt(mean_squared_error(y_test, y_hat5))\n",
    "print(\"R2: \",r_squared5 ,\"\\n\",\"RMSE: \",rmse5)"
   ]
  },
  {
   "cell_type": "code",
   "execution_count": null,
   "id": "8a05f05d",
   "metadata": {},
   "outputs": [],
   "source": [
    "from sklearn.ensemble import GradientBoostingRegressor\n",
    "gbr = GradientBoostingRegressor()\n",
    "from sklearn.model_selection import GridSearchCV"
   ]
  },
  {
   "cell_type": "markdown",
   "id": "de8051c9",
   "metadata": {},
   "source": [
    "تنظیم پارامترهای مدل"
   ]
  },
  {
   "cell_type": "code",
   "execution_count": null,
   "id": "ec375cb1",
   "metadata": {},
   "outputs": [],
   "source": [
    "parameters = {\n",
    "    'loss': ['squared_error','huber'],\n",
    "    'learning_rate': [  1],\n",
    "    'n_estimators': [ 200]\n",
    "}"
   ]
  },
  {
   "cell_type": "code",
   "execution_count": null,
   "id": "5c40b461",
   "metadata": {},
   "outputs": [],
   "source": [
    "grid_search = GridSearchCV(gbr, parameters, cv=3, verbose=3)\n",
    "grid_search.fit(X_train,y_train)"
   ]
  },
  {
   "cell_type": "code",
   "execution_count": null,
   "id": "c88fa746",
   "metadata": {},
   "outputs": [],
   "source": [
    "print(grid_search.best_params_)"
   ]
  },
  {
   "cell_type": "markdown",
   "id": "63ff4f99",
   "metadata": {
    "direction": "rtl"
   },
   "source": [
    "حالا که بهترین پارامترها رو بدست آوردیدم مدل اصلی رو میسازیم"
   ]
  },
  {
   "cell_type": "code",
   "execution_count": null,
   "id": "e1679eaf",
   "metadata": {},
   "outputs": [],
   "source": [
    "gbr = GradientBoostingRegressor(loss='squared_error', learning_rate= 1, n_estimators=200,)\n",
    "model6 = gbr.fit(X_train,y_train)\n",
    "y_hat6 =model6.predict(X_test)\n",
    "r_squared6 = r2_score(y_test, y_hat6)\n",
    "rmse6 = np.sqrt(mean_squared_error(y_test, y_hat6))\n",
    "print(\"R2: \",r_squared6 ,\"\\n\",\"RMSE: \",rmse6)"
   ]
  },
  {
   "cell_type": "code",
   "execution_count": null,
   "id": "433d5697",
   "metadata": {},
   "outputs": [],
   "source": [
    "from sklearn.ensemble import AdaBoostRegressor"
   ]
  },
  {
   "cell_type": "code",
   "execution_count": null,
   "id": "91bc8411",
   "metadata": {},
   "outputs": [],
   "source": [
    "ada = AdaBoostRegressor()\n",
    "model7 = ada.fit(X_train,y_train)\n",
    "y_hat7 =model7.predict(X_test)\n",
    "r_squared7 = r2_score(y_test, y_hat7)\n",
    "rmse7 = np.sqrt(mean_squared_error(y_test, y_hat7))\n",
    "print(\"R2: \",r_squared7 ,\"\\n\",\"RMSE: \",rmse7)"
   ]
  },
  {
   "cell_type": "code",
   "execution_count": 171,
   "id": "77ad55ff",
   "metadata": {},
   "outputs": [],
   "source": [
    "from xgboost import XGBRegressor"
   ]
  },
  {
   "cell_type": "code",
   "execution_count": null,
   "id": "4d025d7d",
   "metadata": {},
   "outputs": [],
   "source": [
    "xgb = XGBRegressor()\n",
    "parameters = {\n",
    "    'booster': ['gbtree', 'gblinear', 'dart'],\n",
    "    'learning_rate': [0.3, 0.5, 1],\n",
    "    'n_estimators': [10, 15, 20, 25]\n",
    "}\n",
    "grid_search_xgb = GridSearchCV(xgb, parameters, verbose=3 ,cv=3)\n",
    "grid_search_xgb.fit(X_train,y_train)"
   ]
  },
  {
   "cell_type": "code",
   "execution_count": null,
   "id": "8fa159cf",
   "metadata": {},
   "outputs": [],
   "source": [
    "print(grid_search_xgb.best_params_)"
   ]
  },
  {
   "cell_type": "markdown",
   "id": "f497608c",
   "metadata": {},
   "source": [
    "حالا مقادیر بهترین پارامتر را درون مدل قرار میدهیم تا ببینیم چه جوابی نسبت به حالت تصادفی بدست میاریم"
   ]
  },
  {
   "cell_type": "code",
   "execution_count": null,
   "id": "fe205947",
   "metadata": {},
   "outputs": [],
   "source": [
    "xgb = XGBRegressor(booster= 'gbtree', learning_rate= 0.5, n_estimators= 25)\n",
    "model8 = xgb.fit(X_train,y_train)\n",
    "y_hat8 =model8.predict(X_test)\n",
    "r_squared8 = r2_score(y_test, y_hat8)\n",
    "rmse8 = np.sqrt(mean_squared_error(y_test, y_hat8))\n",
    "print(\"R2: \",r_squared8 ,\"\\n\",\"RMSE: \",rmse8)"
   ]
  },
  {
   "cell_type": "markdown",
   "id": "c1ce546e",
   "metadata": {
    "direction": "rtl"
   },
   "source": [
    "حالتی که نرخ یادگیری بصورت پیش فرض 0.3 هستش"
   ]
  },
  {
   "cell_type": "code",
   "execution_count": 172,
   "id": "43faa42f",
   "metadata": {},
   "outputs": [
    {
     "name": "stdout",
     "output_type": "stream",
     "text": [
      "R2:  0.6737414771218839 \n",
      " RMSE:  2868.4581025130165\n"
     ]
    }
   ],
   "source": [
    "xgb = XGBRegressor(booster= 'gbtree', learning_rate= 0.3, n_estimators= 200)\n",
    "model9 = xgb.fit(X_train,y_train)\n",
    "y_hat9 =model9.predict(X_test)\n",
    "r_squared9 = r2_score(y_test, y_hat9)\n",
    "rmse9 = np.sqrt(mean_squared_error(y_test, y_hat9))\n",
    "print(\"R2: \",r_squared9 ,\"\\n\",\"RMSE: \",rmse9)"
   ]
  },
  {
   "cell_type": "code",
   "execution_count": null,
   "id": "fe0b0d18",
   "metadata": {},
   "outputs": [],
   "source": [
    "\n"
   ]
  }
 ],
 "metadata": {
  "kernelspec": {
   "display_name": "Python 3 (ipykernel)",
   "language": "python",
   "name": "python3"
  },
  "language_info": {
   "codemirror_mode": {
    "name": "ipython",
    "version": 3
   },
   "file_extension": ".py",
   "mimetype": "text/x-python",
   "name": "python",
   "nbconvert_exporter": "python",
   "pygments_lexer": "ipython3",
   "version": "3.9.13"
  }
 },
 "nbformat": 4,
 "nbformat_minor": 5
}
